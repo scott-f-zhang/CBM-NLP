{
 "cells": [
  {
   "cell_type": "code",
   "execution_count": 15,
   "id": "68238976",
   "metadata": {},
   "outputs": [],
   "source": [
    "import pandas as pd"
   ]
  },
  {
   "cell_type": "code",
   "execution_count": 20,
   "id": "5b7b9413",
   "metadata": {},
   "outputs": [
    {
     "name": "stdout",
     "output_type": "stream",
     "text": [
      "essay_id: ['0066c7c' '006c931' '006d0e1' ... 'fff016d' 'fffb49b' 'fffed3e']\n",
      "full_text: [\"My position on driveless cars are bad because i don't trust them. I have a couple reasons why i don't trust them. My first reason is accidents. Driveless cars could have a sytem malfunction and drive off course and something breaks and crash into somthing. This could happen to anyone such as police, buses, and simple pedestrians.\\n\\nMy second reason is too many driveless cars. If there were to make way too many drivless cars then it would alot of traffic because there are alot of cars who need a driver to drive. Such as if they were to go to the junk yard the junk yards would overflow and they would have to make more and more and less places to build houses or less crops for farmers.\\n\\nMy last reason is pollution. If aot of people bought all these driveless cars then so much pollution would comeup and take over the sky and people would get sick and die from breathing in the air. If they were to change gas into something else and something went wrong with the gas or something to run the cars, they would either blow up or cause to much pollution that they would have to refund all the people and people would stop buying these because they wouldn't trust them.\\n\\nThat's why i say no to driveless cars.            \"\n",
      " 'What if we could tell how all of the people us were without even asking. Most people can tell when someone is sad, happy, or mad just by looking at them, but what happens when that person is hiding how they are truely feeling. What then? Well new techonlogy can allow us to see exctly how someone, who is trying to hide there emotions, is feeling. This is unfair for many reasons. The technology may be cool but people have a right to keep how they are feeling a secert.\\n\\nThe computer software works by making a 3-D computer model of the face; the computer watches the different muscles in the face move to identify how the person is feeling. The technolgy delevopted by Dr. Huang can even calculate mixed emotions with the exact percent of how strong the emotions are. Dr. Huang obseres that \"facial expressions for each emotion are universal\" I htought people expressed emotions in different ways though? Dr Hoang also states that \"even though individuals often show verying degrees of expression.\"\\n\\nPeople have a right to not tell people how they are feeling. Did we really need to know the Mona Lisa was 9 percent disgusted? Now that raises the question of why? Was Leonardo de Vinci\\'s hair messed up? Or did she think he needed to take a shower? What is the point in knowing someone is feelings without knowing why? We do not need technology to ask someone how they are feeling. or even why the are feeling the way they are feeling that way.\\n\\nThere are really no benfits to knowing how someone is feeling without knowing why. The technology is very cool. It is crazy how Dr Huang was able to develope a computer that uses muscle movment to idenitfy emotions. The technology is useless though unless you are prepare and willing to ask why? '\n",
      " \"Have you ever seen Europe? What about China, or the Acropolis in Greece? Have you seen Venice, Italy, or the Panama Canal? If you've ever wanted to do those things, and help a lot of people while doing it, you're Seagoing Cowboy material. You should become a Seagoing Cowboy because of the hard work it teaches, the experience, and because you're supporting other countries, as well as your own!\\n\\nFirst of all, we have the grueling hard work to speak of. Some may say that grueling hard work is not a reason to volunteer for something, but I disagree. Being a Seagoing Cowboy is nothing like a normal, boring life. Yes, you have hard work, but you get the greatest sense of satisfaction once you're done. You get to know that all your hard work has gone to helping people in need, and that you've really made a mark on this world. I think hard work is also the path to knowledge, and you may just learn some life lessons along the way.\\n\\nSecondly, the fantastic experience is what we will cover. Some people may argue that the experience isn't worth risking your life over, but in reality, it's quite the contrary. If you're a Seagoing Cowboy, you get to travel the world, like I mentioned. You can see places like Greece, Italy, and China. Also, don't forget their unforgetable landmarks that you will see! Not only do you get to travel the world, but this is a once in a lifetime experience! We won't be around forever! Plus, I bet it will make one heck of a story to tell your grandchildren, am I right?\\n\\nFinally, we have the service you are providing. Some may say you are better off in the military. This may be so, but would you rather be taking lives, or saving them? Plus, us Seagoing Cowboys were only created because of World War II to clean up the mess. Wouldn't it be counterproductive to start a World War III? Here, you get to help people, improve lives, and do good for your country, and the country you're in. I think that with more of us Seagoing Cowboys, we can make the world a better place.\\n\\nUs Seagoing Cowboys know how to work hard, experienced a once in a lifetime chance, and supported our and many other countries. We've seen Europe, China, Greece, Italy, and even Panama! We've traveled the world, crossing oceans to and fro, for the good of mankind. So, what are you waiting for? Sign up today!\"\n",
      " ...\n",
      " \"If you don't like sitting around all day than it is a great opportunity to participate in the seagoing Cowboys program. You should join this program. There are many reasons why you should join. Also if you are really tired between trips there is time to do your own thing. If you join the program I garentee you will have a good time.\\n\\nYou should join the program because it's helping people while having fun. Also if you do join when we are going to our next place you have lots of time to sleep and have fun. We go to many different places some of them you might never of seen or maybe you haven't seen any of them. The program has helped many people and knowing that you helped them just makes you feel a lot better. Those were some reasons why you should join the program.\\n\\nThere are many of other programs but many people have found this particular one the best. Although some days when it's not nice outside we have even more time to ourselves. There are many of places we still haven't seen yet and we hope to see them with you. So join this program and help people in need. That is why you should Jin this program.\"\n",
      " 'In \"The Challenge of Exporing Venus,\" the author suggests that studying Venus is a worthy pursuit despite the dangers it presents because Venus is sometimes called the \" Evening Star\" this is in paragraph 1 the first sentence. Sometimes referred as Earth\\'s \"twin,\" Venus is the closest planet to Earth in terms of density and size, and occasionally the closest in distance too. Earth, Venus, and Mars, our other planetary neighbor, orbit the sun at different speeds. These differences in speed mean that sometimes we are closer to Mars and other times to Venus because Venus is sometimes right around the the corner-in space terms-humans have sent numerous spacecraft to land on this cloud-draped world. A thick atmosphere of almost 97 percent carbon dioxixde blankets Venus. Even more challenging are the cloudds of highly corrosive sulfuric acid in Venu\\'s atmosphere. On the planet\\'s surface, temperatures average over 800 degrees fahrenheit, and the atmospheric pressure is 90 times greater than what we experience on our own planet. Venus was probably covered largely with oceans and cloud have supported various forms of life, just like Earth. Today, Venus still has some features that are analogous to those on Earth. Venus can sometimes be our nearest option for a planetary visit. this is why the author suggests that studying the \"The Challenge of Exploring Venus,\" is a worthy pursuit despite the dangers it presents.'\n",
      " 'Venus is worthy place to study but dangerous. The reaosn in doing theis is because of the challenge there is. trying to study something with out going for yourself. that is pretty hard to do. One you have the biuld something that will either help your or something that can with so the temputure of Venus. Two the distance of getting there and back. Gotta have something to hold that uch fuel to go there and come home. if a human is going you need to have a food stock for them to last\\n\\nof the Planet.\\n\\nJust like when they sent a robot to the planet it had to out a material tthat can withstand the planet itself., But that only lasted two weeks. Now they are try to go for longer the two weeks.\\n\\nIn Conclusion i know that tcan do it its just going to take some time for it to happen. ']\n",
      "score: [2 3 4 1 5 6]\n",
      "TC: [4. 5. 2. 3. 1.]\n",
      "UE: [1. 3. 4. 2. 5.]\n",
      "OC: [3. 5. 4. 2. 1.]\n",
      "GM: [1. 4. 2. 3. 5.]\n",
      "VA: [1. 4. 2. 3. 5.]\n",
      "SV: [1. 2. 4. 3. 5.]\n",
      "CTD: [1. 3. 2. 4. 5.]\n",
      "FR: [2. 4. 3. 1. 5.]\n"
     ]
    }
   ],
   "source": [
    "df = pd.read_csv(\"raw/essay.csv\")\n",
    "\n",
    "for col in df.columns:\n",
    "    print(f\"{col}: {df[col].unique()}\")"
   ]
  }
 ],
 "metadata": {
  "language_info": {
   "name": "python"
  }
 },
 "nbformat": 4,
 "nbformat_minor": 5
}
