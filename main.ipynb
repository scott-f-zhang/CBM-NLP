{
 "cells": [
  {
   "cell_type": "code",
   "execution_count": 1,
   "id": "c7267c57",
   "metadata": {},
   "outputs": [
    {
     "name": "stderr",
     "output_type": "stream",
     "text": [
      "/Volumes/Satechi/Applications/miniconda3/envs/cbm/lib/python3.10/site-packages/tqdm/auto.py:21: TqdmWarning: IProgress not found. Please update jupyter and ipywidgets. See https://ipywidgets.readthedocs.io/en/stable/user_install.html\n",
      "  from .autonotebook import tqdm as notebook_tqdm\n"
     ]
    }
   ],
   "source": [
    "import os\n",
    "import sys\n",
    "import pandas as pd\n",
    "\n",
    "from run_cebab import get_cbm_standard, get_cbm_joint"
   ]
  },
  {
   "cell_type": "code",
   "execution_count": 2,
   "id": "61fd5319-0aef-44e3-bd26-dee1c7dd49d3",
   "metadata": {},
   "outputs": [],
   "source": [
    "# can only run once when kernal start\n",
    "os.chdir('run_cebab')"
   ]
  },
  {
   "cell_type": "code",
   "execution_count": 3,
   "id": "7108584a-4b6d-4e7b-a4dc-efaa36b4051c",
   "metadata": {},
   "outputs": [],
   "source": [
    "lr_rate_dt = {\n",
    "    'lstm': 1e-2,\n",
    "    'gpt2': 1e-4,\n",
    "    'roberta-base': 1e-5,\n",
    "    'bert-base-uncased': 1e-5\n",
    "}\n",
    "\n",
    "def get_average_scores(score_list):\n",
    "    if not score_list:\n",
    "        return (0.0, 0.0)\n",
    "\n",
    "    s1 = s2 = 0.0\n",
    "    n = 0\n",
    "    for a, b in score_list:\n",
    "        s1 += a\n",
    "        s2 += b\n",
    "        n += 1\n",
    "    return ((s1 / n * 100), (s2 / n * 100))\n",
    "\n",
    "def get_tuple_2f_fmt(tp):\n",
    "    f1, f2 = tp\n",
    "    return f\"{f1:.2f}/{f2:.2f}\""
   ]
  },
  {
   "cell_type": "code",
   "execution_count": null,
   "id": "59f2125a-f9b6-4110-8255-99ce12aed5bb",
   "metadata": {},
   "outputs": [
    {
     "name": "stdout",
     "output_type": "stream",
     "text": [
      "Running standard...\n",
      "\tRunning pure_cebab...\n",
      "\t\tRunning bert-base-uncased... with learning rate: 1e-05\n"
     ]
    },
    {
     "name": "stderr",
     "output_type": "stream",
     "text": [
      "Training: 100%|██████████| 183/183 [00:28<00:00,  6.33batch/s]\n",
      "Val: 100%|██████████| 210/210 [00:11<00:00, 18.61batch/s]\n"
     ]
    },
    {
     "name": "stdout",
     "output_type": "stream",
     "text": [
      "Epoch 1: Val Acc = 55.05080693365212 Val Macro F1 = 63.279823052991034\n"
     ]
    },
    {
     "name": "stderr",
     "output_type": "stream",
     "text": [
      "Training: 100%|██████████| 183/183 [00:28<00:00,  6.43batch/s]\n",
      "Val: 100%|██████████| 210/210 [00:11<00:00, 18.61batch/s]\n"
     ]
    },
    {
     "name": "stdout",
     "output_type": "stream",
     "text": [
      "Epoch 2: Val Acc = 60.848774656306034 Val Macro F1 = 68.88938213437918\n"
     ]
    },
    {
     "name": "stderr",
     "output_type": "stream",
     "text": [
      "Training: 100%|██████████| 183/183 [00:28<00:00,  6.43batch/s]\n",
      "Val: 100%|██████████| 210/210 [00:11<00:00, 18.62batch/s]\n"
     ]
    },
    {
     "name": "stdout",
     "output_type": "stream",
     "text": [
      "Epoch 3: Val Acc = 62.46264196054992 Val Macro F1 = 70.97290498038316\n"
     ]
    },
    {
     "name": "stderr",
     "output_type": "stream",
     "text": [
      "Training: 100%|██████████| 183/183 [00:28<00:00,  6.44batch/s]\n",
      "Val: 100%|██████████| 210/210 [00:11<00:00, 18.61batch/s]\n"
     ]
    },
    {
     "name": "stdout",
     "output_type": "stream",
     "text": [
      "Epoch 4: Val Acc = 63.83741781231321 Val Macro F1 = 72.48343456822474\n"
     ]
    },
    {
     "name": "stderr",
     "output_type": "stream",
     "text": [
      "Training: 100%|██████████| 183/183 [00:28<00:00,  6.44batch/s]\n",
      "Val: 100%|██████████| 210/210 [00:11<00:00, 18.62batch/s]\n"
     ]
    },
    {
     "name": "stdout",
     "output_type": "stream",
     "text": [
      "Epoch 5: Val Acc = 63.12014345487149 Val Macro F1 = 72.99730851697076\n"
     ]
    },
    {
     "name": "stderr",
     "output_type": "stream",
     "text": [
      "Training: 100%|██████████| 183/183 [00:28<00:00,  6.44batch/s]\n",
      "Val: 100%|██████████| 210/210 [00:11<00:00, 18.61batch/s]\n"
     ]
    },
    {
     "name": "stdout",
     "output_type": "stream",
     "text": [
      "Epoch 6: Val Acc = 65.27196652719665 Val Macro F1 = 75.25982305289062\n"
     ]
    },
    {
     "name": "stderr",
     "output_type": "stream",
     "text": [
      "Training: 100%|██████████| 183/183 [00:28<00:00,  6.44batch/s]\n",
      "Val: 100%|██████████| 210/210 [00:11<00:00, 18.62batch/s]\n"
     ]
    },
    {
     "name": "stdout",
     "output_type": "stream",
     "text": [
      "Epoch 7: Val Acc = 62.22355050806934 Val Macro F1 = 74.44097860587738\n"
     ]
    },
    {
     "name": "stderr",
     "output_type": "stream",
     "text": [
      "Training: 100%|██████████| 183/183 [00:28<00:00,  6.44batch/s]\n",
      "Val: 100%|██████████| 210/210 [00:11<00:00, 18.61batch/s]\n"
     ]
    },
    {
     "name": "stdout",
     "output_type": "stream",
     "text": [
      "Epoch 8: Val Acc = 65.7501494321578 Val Macro F1 = 77.35989961437924\n"
     ]
    },
    {
     "name": "stderr",
     "output_type": "stream",
     "text": [
      "Training: 100%|██████████| 183/183 [00:28<00:00,  6.44batch/s]\n",
      "Val: 100%|██████████| 210/210 [00:11<00:00, 18.61batch/s]\n"
     ]
    },
    {
     "name": "stdout",
     "output_type": "stream",
     "text": [
      "Epoch 9: Val Acc = 64.07650926479378 Val Macro F1 = 77.01119851788802\n"
     ]
    },
    {
     "name": "stderr",
     "output_type": "stream",
     "text": [
      "Training: 100%|██████████| 183/183 [00:28<00:00,  6.44batch/s]\n",
      "Val: 100%|██████████| 210/210 [00:11<00:00, 18.61batch/s]\n"
     ]
    },
    {
     "name": "stdout",
     "output_type": "stream",
     "text": [
      "Epoch 10: Val Acc = 66.82606096832038 Val Macro F1 = 78.5661581129307\n"
     ]
    },
    {
     "name": "stderr",
     "output_type": "stream",
     "text": [
      "Training: 100%|██████████| 183/183 [00:28<00:00,  6.44batch/s]\n",
      "Val: 100%|██████████| 210/210 [00:11<00:00, 18.61batch/s]\n"
     ]
    },
    {
     "name": "stdout",
     "output_type": "stream",
     "text": [
      "Epoch 11: Val Acc = 67.84219964136282 Val Macro F1 = 79.19631733727974\n"
     ]
    },
    {
     "name": "stderr",
     "output_type": "stream",
     "text": [
      "Training: 100%|██████████| 183/183 [00:28<00:00,  6.44batch/s]\n",
      "Val: 100%|██████████| 210/210 [00:11<00:00, 18.61batch/s]\n"
     ]
    },
    {
     "name": "stdout",
     "output_type": "stream",
     "text": [
      "Epoch 12: Val Acc = 68.26060968320382 Val Macro F1 = 79.4244570416741\n"
     ]
    },
    {
     "name": "stderr",
     "output_type": "stream",
     "text": [
      "Training: 100%|██████████| 183/183 [00:28<00:00,  6.44batch/s]\n",
      "Val: 100%|██████████| 210/210 [00:11<00:00, 18.61batch/s]\n"
     ]
    },
    {
     "name": "stdout",
     "output_type": "stream",
     "text": [
      "Epoch 13: Val Acc = 66.22833233711894 Val Macro F1 = 77.85141891848843\n"
     ]
    },
    {
     "name": "stderr",
     "output_type": "stream",
     "text": [
      "Training: 100%|██████████| 183/183 [00:28<00:00,  6.43batch/s]\n",
      "Val: 100%|██████████| 210/210 [00:11<00:00, 18.62batch/s]\n"
     ]
    },
    {
     "name": "stdout",
     "output_type": "stream",
     "text": [
      "Epoch 14: Val Acc = 67.24447101016139 Val Macro F1 = 78.61553573800191\n"
     ]
    },
    {
     "name": "stderr",
     "output_type": "stream",
     "text": [
      "Training: 100%|██████████| 183/183 [00:28<00:00,  6.44batch/s]\n",
      "Val: 100%|██████████| 210/210 [00:11<00:00, 18.61batch/s]\n"
     ]
    },
    {
     "name": "stdout",
     "output_type": "stream",
     "text": [
      "Epoch 15: Val Acc = 67.84219964136282 Val Macro F1 = 78.68639337826467\n"
     ]
    },
    {
     "name": "stderr",
     "output_type": "stream",
     "text": [
      "Training: 100%|██████████| 183/183 [00:28<00:00,  6.44batch/s]\n",
      "Val: 100%|██████████| 210/210 [00:11<00:00, 18.61batch/s]\n"
     ]
    },
    {
     "name": "stdout",
     "output_type": "stream",
     "text": [
      "Epoch 16: Val Acc = 65.80992229527794 Val Macro F1 = 78.00230007045302\n"
     ]
    },
    {
     "name": "stderr",
     "output_type": "stream",
     "text": [
      "Training: 100%|██████████| 183/183 [00:28<00:00,  6.44batch/s]\n",
      "Val: 100%|██████████| 210/210 [00:11<00:00, 18.61batch/s]\n"
     ]
    },
    {
     "name": "stdout",
     "output_type": "stream",
     "text": [
      "Epoch 17: Val Acc = 66.40765092647938 Val Macro F1 = 77.7998326647383\n"
     ]
    },
    {
     "name": "stderr",
     "output_type": "stream",
     "text": [
      "Training: 100%|██████████| 183/183 [00:28<00:00,  6.44batch/s]\n",
      "Val: 100%|██████████| 210/210 [00:11<00:00, 18.62batch/s]\n"
     ]
    },
    {
     "name": "stdout",
     "output_type": "stream",
     "text": [
      "Epoch 18: Val Acc = 66.22833233711894 Val Macro F1 = 77.91552102053325\n"
     ]
    },
    {
     "name": "stderr",
     "output_type": "stream",
     "text": [
      "Training: 100%|██████████| 183/183 [00:28<00:00,  6.44batch/s]\n",
      "Val: 100%|██████████| 210/210 [00:11<00:00, 18.62batch/s]\n"
     ]
    },
    {
     "name": "stdout",
     "output_type": "stream",
     "text": [
      "Epoch 19: Val Acc = 66.04901374775852 Val Macro F1 = 78.0411283279015\n"
     ]
    },
    {
     "name": "stderr",
     "output_type": "stream",
     "text": [
      "Training: 100%|██████████| 183/183 [00:28<00:00,  6.44batch/s]\n",
      "Val: 100%|██████████| 210/210 [00:11<00:00, 18.62batch/s]\n"
     ]
    },
    {
     "name": "stdout",
     "output_type": "stream",
     "text": [
      "Epoch 20: Val Acc = 67.66288105200239 Val Macro F1 = 78.58951599633987\n",
      "Test!\n"
     ]
    },
    {
     "name": "stderr",
     "output_type": "stream",
     "text": [
      "Test: 100%|██████████| 212/212 [00:11<00:00, 18.79batch/s]\n"
     ]
    },
    {
     "name": "stdout",
     "output_type": "stream",
     "text": [
      "Epoch 1: Test Acc = 67.4363528715216 Test Macro F1 = 78.64032782784007\n",
      "\t\tRunning roberta-base... with learning rate: 1e-05\n"
     ]
    },
    {
     "name": "stderr",
     "output_type": "stream",
     "text": [
      "Some weights of RobertaModel were not initialized from the model checkpoint at roberta-base and are newly initialized: ['pooler.dense.bias', 'pooler.dense.weight']\n",
      "You should probably TRAIN this model on a down-stream task to be able to use it for predictions and inference.\n",
      "Training: 100%|██████████| 183/183 [00:28<00:00,  6.40batch/s]\n",
      "Val: 100%|██████████| 210/210 [00:11<00:00, 19.07batch/s]\n"
     ]
    },
    {
     "name": "stdout",
     "output_type": "stream",
     "text": [
      "Epoch 1: Val Acc = 60.37059175134489 Val Macro F1 = 70.21203708704626\n"
     ]
    },
    {
     "name": "stderr",
     "output_type": "stream",
     "text": [
      "Training: 100%|██████████| 183/183 [00:28<00:00,  6.40batch/s]\n",
      "Val: 100%|██████████| 210/210 [00:10<00:00, 19.10batch/s]\n"
     ]
    },
    {
     "name": "stdout",
     "output_type": "stream",
     "text": [
      "Epoch 2: Val Acc = 71.06993424985056 Val Macro F1 = 80.56313116542908\n"
     ]
    },
    {
     "name": "stderr",
     "output_type": "stream",
     "text": [
      "Training: 100%|██████████| 183/183 [00:28<00:00,  6.40batch/s]\n",
      "Val: 100%|██████████| 210/210 [00:10<00:00, 19.10batch/s]\n"
     ]
    },
    {
     "name": "stdout",
     "output_type": "stream",
     "text": [
      "Epoch 3: Val Acc = 69.63538553496711 Val Macro F1 = 80.53524660266721\n"
     ]
    },
    {
     "name": "stderr",
     "output_type": "stream",
     "text": [
      "Training: 100%|██████████| 183/183 [00:28<00:00,  6.40batch/s]\n",
      "Val: 100%|██████████| 210/210 [00:10<00:00, 19.09batch/s]\n"
     ]
    },
    {
     "name": "stdout",
     "output_type": "stream",
     "text": [
      "Epoch 4: Val Acc = 72.50448296473401 Val Macro F1 = 81.86170067435525\n"
     ]
    },
    {
     "name": "stderr",
     "output_type": "stream",
     "text": [
      "Training: 100%|██████████| 183/183 [00:28<00:00,  6.40batch/s]\n",
      "Val: 100%|██████████| 210/210 [00:10<00:00, 19.10batch/s]\n"
     ]
    },
    {
     "name": "stdout",
     "output_type": "stream",
     "text": [
      "Epoch 5: Val Acc = 74.05857740585773 Val Macro F1 = 83.05864273092511\n"
     ]
    },
    {
     "name": "stderr",
     "output_type": "stream",
     "text": [
      "Training: 100%|██████████| 183/183 [00:28<00:00,  6.40batch/s]\n",
      "Val: 100%|██████████| 210/210 [00:10<00:00, 19.10batch/s]\n"
     ]
    },
    {
     "name": "stdout",
     "output_type": "stream",
     "text": [
      "Epoch 6: Val Acc = 72.92289300657502 Val Macro F1 = 82.17504409995506\n"
     ]
    },
    {
     "name": "stderr",
     "output_type": "stream",
     "text": [
      "Training: 100%|██████████| 183/183 [00:28<00:00,  6.40batch/s]\n",
      "Val: 100%|██████████| 210/210 [00:10<00:00, 19.09batch/s]\n"
     ]
    },
    {
     "name": "stdout",
     "output_type": "stream",
     "text": [
      "Epoch 7: Val Acc = 72.80334728033473 Val Macro F1 = 82.34933585860304\n"
     ]
    },
    {
     "name": "stderr",
     "output_type": "stream",
     "text": [
      "Training: 100%|██████████| 183/183 [00:28<00:00,  6.40batch/s]\n",
      "Val: 100%|██████████| 210/210 [00:10<00:00, 19.10batch/s]\n"
     ]
    },
    {
     "name": "stdout",
     "output_type": "stream",
     "text": [
      "Epoch 8: Val Acc = 73.04243873281531 Val Macro F1 = 82.23727638054747\n"
     ]
    },
    {
     "name": "stderr",
     "output_type": "stream",
     "text": [
      "Training: 100%|██████████| 183/183 [00:28<00:00,  6.40batch/s]\n",
      "Val: 100%|██████████| 210/210 [00:10<00:00, 19.10batch/s]\n"
     ]
    },
    {
     "name": "stdout",
     "output_type": "stream",
     "text": [
      "Epoch 9: Val Acc = 71.90675433353258 Val Macro F1 = 81.67538265053513\n"
     ]
    },
    {
     "name": "stderr",
     "output_type": "stream",
     "text": [
      "Training: 100%|██████████| 183/183 [00:28<00:00,  6.40batch/s]\n",
      "Val: 100%|██████████| 210/210 [00:10<00:00, 19.10batch/s]\n"
     ]
    },
    {
     "name": "stdout",
     "output_type": "stream",
     "text": [
      "Epoch 10: Val Acc = 72.74357441721459 Val Macro F1 = 81.83929969527487\n"
     ]
    },
    {
     "name": "stderr",
     "output_type": "stream",
     "text": [
      "Training: 100%|██████████| 183/183 [00:28<00:00,  6.39batch/s]\n",
      "Val: 100%|██████████| 210/210 [00:10<00:00, 19.10batch/s]\n"
     ]
    },
    {
     "name": "stdout",
     "output_type": "stream",
     "text": [
      "Epoch 11: Val Acc = 71.66766288105201 Val Macro F1 = 81.45130470188036\n"
     ]
    },
    {
     "name": "stderr",
     "output_type": "stream",
     "text": [
      "Training: 100%|██████████| 183/183 [00:28<00:00,  6.39batch/s]\n",
      "Val: 100%|██████████| 210/210 [00:10<00:00, 19.10batch/s]\n"
     ]
    },
    {
     "name": "stdout",
     "output_type": "stream",
     "text": [
      "Epoch 12: Val Acc = 71.48834429169158 Val Macro F1 = 81.47917359724501\n"
     ]
    },
    {
     "name": "stderr",
     "output_type": "stream",
     "text": [
      "Training: 100%|██████████| 183/183 [00:28<00:00,  6.40batch/s]\n",
      "Val: 100%|██████████| 210/210 [00:10<00:00, 19.10batch/s]\n"
     ]
    },
    {
     "name": "stdout",
     "output_type": "stream",
     "text": [
      "Epoch 13: Val Acc = 72.38493723849372 Val Macro F1 = 81.88447214450555\n"
     ]
    },
    {
     "name": "stderr",
     "output_type": "stream",
     "text": [
      "Training: 100%|██████████| 183/183 [00:28<00:00,  6.39batch/s]\n",
      "Val: 100%|██████████| 210/210 [00:10<00:00, 19.10batch/s]\n"
     ]
    },
    {
     "name": "stdout",
     "output_type": "stream",
     "text": [
      "Epoch 14: Val Acc = 73.10221159593544 Val Macro F1 = 82.32538229018643\n"
     ]
    },
    {
     "name": "stderr",
     "output_type": "stream",
     "text": [
      "Training: 100%|██████████| 183/183 [00:28<00:00,  6.40batch/s]\n",
      "Val: 100%|██████████| 210/210 [00:10<00:00, 19.10batch/s]\n"
     ]
    },
    {
     "name": "stdout",
     "output_type": "stream",
     "text": [
      "Epoch 15: Val Acc = 72.02630005977286 Val Macro F1 = 82.04331395315376\n"
     ]
    },
    {
     "name": "stderr",
     "output_type": "stream",
     "text": [
      "Training: 100%|██████████| 183/183 [00:28<00:00,  6.40batch/s]\n",
      "Val: 100%|██████████| 210/210 [00:10<00:00, 19.10batch/s]\n"
     ]
    },
    {
     "name": "stdout",
     "output_type": "stream",
     "text": [
      "Epoch 16: Val Acc = 69.93424985056784 Val Macro F1 = 80.88136466798208\n"
     ]
    },
    {
     "name": "stderr",
     "output_type": "stream",
     "text": [
      "Training: 100%|██████████| 183/183 [00:28<00:00,  6.40batch/s]\n",
      "Val: 100%|██████████| 210/210 [00:10<00:00, 19.10batch/s]\n"
     ]
    },
    {
     "name": "stdout",
     "output_type": "stream",
     "text": [
      "Epoch 17: Val Acc = 71.48834429169158 Val Macro F1 = 80.77543244731817\n"
     ]
    },
    {
     "name": "stderr",
     "output_type": "stream",
     "text": [
      "Training: 100%|██████████| 183/183 [00:28<00:00,  6.40batch/s]\n",
      "Val: 100%|██████████| 210/210 [00:10<00:00, 19.10batch/s]\n"
     ]
    },
    {
     "name": "stdout",
     "output_type": "stream",
     "text": [
      "Epoch 18: Val Acc = 71.78720860729229 Val Macro F1 = 81.54868872636344\n"
     ]
    },
    {
     "name": "stderr",
     "output_type": "stream",
     "text": [
      "Training: 100%|██████████| 183/183 [00:28<00:00,  6.40batch/s]\n",
      "Training: 100%|██████████| 183/183 [00:28<00:00,  6.40batch/s]\n",
      "Val: 100%|██████████| 210/210 [00:10<00:00, 19.10batch/s]\n"
     ]
    },
    {
     "name": "stdout",
     "output_type": "stream",
     "text": [
      "Epoch 20: Val Acc = 71.01016138673042 Val Macro F1 = 80.94521526922634\n",
      "Test!\n"
     ]
    },
    {
     "name": "stderr",
     "output_type": "stream",
     "text": [
      "Test: 100%|██████████| 212/212 [00:11<00:00, 19.23batch/s]\n"
     ]
    },
    {
     "name": "stdout",
     "output_type": "stream",
     "text": [
      "Epoch 1: Test Acc = 71.69923031379514 Test Macro F1 = 81.2784249683554\n",
      "\t\tRunning gpt2... with learning rate: 0.0001\n"
     ]
    },
    {
     "name": "stderr",
     "output_type": "stream",
     "text": [
      "Training: 100%|██████████| 183/183 [00:30<00:00,  5.96batch/s]\n",
      "Val: 100%|██████████| 210/210 [00:11<00:00, 17.59batch/s]\n"
     ]
    },
    {
     "name": "stdout",
     "output_type": "stream",
     "text": [
      "Epoch 1: Val Acc = 41.48236700537956 Val Macro F1 = 58.38911774518918\n"
     ]
    },
    {
     "name": "stderr",
     "output_type": "stream",
     "text": [
      "Training: 100%|██████████| 183/183 [00:30<00:00,  6.04batch/s]\n",
      "Val: 100%|██████████| 210/210 [00:11<00:00, 17.57batch/s]\n"
     ]
    },
    {
     "name": "stdout",
     "output_type": "stream",
     "text": [
      "Epoch 2: Val Acc = 60.54991034070532 Val Macro F1 = 72.91255876922452\n"
     ]
    },
    {
     "name": "stderr",
     "output_type": "stream",
     "text": [
      "Training: 100%|██████████| 183/183 [00:30<00:00,  6.04batch/s]\n",
      "Val: 100%|██████████| 210/210 [00:11<00:00, 17.56batch/s]\n"
     ]
    },
    {
     "name": "stdout",
     "output_type": "stream",
     "text": [
      "Epoch 3: Val Acc = 62.64196054991034 Val Macro F1 = 75.73729424037658\n"
     ]
    },
    {
     "name": "stderr",
     "output_type": "stream",
     "text": [
      "Training: 100%|██████████| 183/183 [00:30<00:00,  6.03batch/s]\n",
      "Val: 100%|██████████| 210/210 [00:11<00:00, 17.60batch/s]\n"
     ]
    },
    {
     "name": "stdout",
     "output_type": "stream",
     "text": [
      "Epoch 4: Val Acc = 63.59832635983263 Val Macro F1 = 76.44384622819041\n"
     ]
    },
    {
     "name": "stderr",
     "output_type": "stream",
     "text": [
      "Training: 100%|██████████| 183/183 [00:30<00:00,  6.03batch/s]\n",
      "Val: 100%|██████████| 210/210 [00:11<00:00, 17.60batch/s]\n"
     ]
    },
    {
     "name": "stdout",
     "output_type": "stream",
     "text": [
      "Epoch 5: Val Acc = 62.82127913927077 Val Macro F1 = 76.53101982486342\n"
     ]
    },
    {
     "name": "stderr",
     "output_type": "stream",
     "text": [
      "Training: 100%|██████████| 183/183 [00:30<00:00,  6.03batch/s]\n",
      "Val: 100%|██████████| 210/210 [00:11<00:00, 17.57batch/s]\n"
     ]
    },
    {
     "name": "stdout",
     "output_type": "stream",
     "text": [
      "Epoch 6: Val Acc = 59.77286312014346 Val Macro F1 = 75.03316945160081\n"
     ]
    },
    {
     "name": "stderr",
     "output_type": "stream",
     "text": [
      "Training: 100%|██████████| 183/183 [00:30<00:00,  6.04batch/s]\n",
      "Val: 100%|██████████| 210/210 [00:11<00:00, 17.57batch/s]\n"
     ]
    },
    {
     "name": "stdout",
     "output_type": "stream",
     "text": [
      "Epoch 7: Val Acc = 66.1685594739988 Val Macro F1 = 77.44969078779548\n"
     ]
    },
    {
     "name": "stderr",
     "output_type": "stream",
     "text": [
      "Training: 100%|██████████| 183/183 [00:30<00:00,  6.04batch/s]\n",
      "Val: 100%|██████████| 210/210 [00:11<00:00, 17.59batch/s]\n"
     ]
    },
    {
     "name": "stdout",
     "output_type": "stream",
     "text": [
      "Epoch 8: Val Acc = 63.35923490735206 Val Macro F1 = 76.32256319875295\n"
     ]
    },
    {
     "name": "stderr",
     "output_type": "stream",
     "text": [
      "Training: 100%|██████████| 183/183 [00:30<00:00,  6.03batch/s]\n",
      "Val: 100%|██████████| 210/210 [00:11<00:00, 17.59batch/s]\n"
     ]
    },
    {
     "name": "stdout",
     "output_type": "stream",
     "text": [
      "Epoch 9: Val Acc = 61.92468619246861 Val Macro F1 = 75.31625076965975\n"
     ]
    },
    {
     "name": "stderr",
     "output_type": "stream",
     "text": [
      "Training: 100%|██████████| 183/183 [00:30<00:00,  6.03batch/s]\n",
      "Val: 100%|██████████| 210/210 [00:11<00:00, 17.59batch/s]\n"
     ]
    },
    {
     "name": "stdout",
     "output_type": "stream",
     "text": [
      "Epoch 10: Val Acc = 61.32695756126718 Val Macro F1 = 75.10389834259794\n"
     ]
    },
    {
     "name": "stderr",
     "output_type": "stream",
     "text": [
      "Training: 100%|██████████| 183/183 [00:30<00:00,  6.03batch/s]\n",
      "Val: 100%|██████████| 210/210 [00:11<00:00, 17.59batch/s]\n"
     ]
    },
    {
     "name": "stdout",
     "output_type": "stream",
     "text": [
      "Epoch 11: Val Acc = 60.90854751942618 Val Macro F1 = 75.34001499042986\n"
     ]
    },
    {
     "name": "stderr",
     "output_type": "stream",
     "text": [
      "Training: 100%|██████████| 183/183 [00:30<00:00,  6.03batch/s]\n",
      "Val: 100%|██████████| 210/210 [00:11<00:00, 17.59batch/s]\n"
     ]
    },
    {
     "name": "stdout",
     "output_type": "stream",
     "text": [
      "Epoch 12: Val Acc = 58.338314405260014 Val Macro F1 = 73.7640239854355\n"
     ]
    },
    {
     "name": "stderr",
     "output_type": "stream",
     "text": [
      "Training: 100%|██████████| 183/183 [00:30<00:00,  6.03batch/s]\n",
      "Val: 100%|██████████| 210/210 [00:11<00:00, 17.59batch/s]\n"
     ]
    },
    {
     "name": "stdout",
     "output_type": "stream",
     "text": [
      "Epoch 13: Val Acc = 62.82127913927077 Val Macro F1 = 75.6241132208887\n"
     ]
    },
    {
     "name": "stderr",
     "output_type": "stream",
     "text": [
      "Training: 100%|██████████| 183/183 [00:30<00:00,  6.04batch/s]\n",
      "Val: 100%|██████████| 210/210 [00:11<00:00, 17.59batch/s]\n"
     ]
    },
    {
     "name": "stdout",
     "output_type": "stream",
     "text": [
      "Epoch 14: Val Acc = 64.31560071727435 Val Macro F1 = 76.74789217754933\n"
     ]
    },
    {
     "name": "stderr",
     "output_type": "stream",
     "text": [
      "Training: 100%|██████████| 183/183 [00:30<00:00,  6.03batch/s]\n",
      "Val: 100%|██████████| 210/210 [00:11<00:00, 17.59batch/s]\n"
     ]
    },
    {
     "name": "stdout",
     "output_type": "stream",
     "text": [
      "Epoch 15: Val Acc = 60.37059175134489 Val Macro F1 = 74.8345750656893\n"
     ]
    },
    {
     "name": "stderr",
     "output_type": "stream",
     "text": [
      "Training: 100%|██████████| 183/183 [00:30<00:00,  6.03batch/s]\n",
      "Val: 100%|██████████| 210/210 [00:11<00:00, 17.59batch/s]\n"
     ]
    },
    {
     "name": "stdout",
     "output_type": "stream",
     "text": [
      "Epoch 16: Val Acc = 63.47878063359234 Val Macro F1 = 76.3950716253146\n"
     ]
    },
    {
     "name": "stderr",
     "output_type": "stream",
     "text": [
      "Training: 100%|██████████| 183/183 [00:30<00:00,  6.03batch/s]\n",
      "Val: 100%|██████████| 210/210 [00:11<00:00, 17.59batch/s]\n"
     ]
    },
    {
     "name": "stdout",
     "output_type": "stream",
     "text": [
      "Epoch 17: Val Acc = 62.16377764494919 Val Macro F1 = 74.12718320739641\n"
     ]
    },
    {
     "name": "stderr",
     "output_type": "stream",
     "text": [
      "Training: 100%|██████████| 183/183 [00:30<00:00,  6.03batch/s]\n",
      "Val: 100%|██████████| 210/210 [00:11<00:00, 17.60batch/s]\n"
     ]
    },
    {
     "name": "stdout",
     "output_type": "stream",
     "text": [
      "Epoch 18: Val Acc = 60.60968320382546 Val Macro F1 = 74.77576718065067\n"
     ]
    },
    {
     "name": "stderr",
     "output_type": "stream",
     "text": [
      "Training: 100%|██████████| 183/183 [00:30<00:00,  6.03batch/s]\n",
      "Val: 100%|██████████| 210/210 [00:11<00:00, 17.59batch/s]\n"
     ]
    },
    {
     "name": "stdout",
     "output_type": "stream",
     "text": [
      "Epoch 19: Val Acc = 62.70173341303048 Val Macro F1 = 76.187220325021\n"
     ]
    },
    {
     "name": "stderr",
     "output_type": "stream",
     "text": [
      "Training: 100%|██████████| 183/183 [00:30<00:00,  6.03batch/s]\n",
      "Val: 100%|██████████| 210/210 [00:11<00:00, 17.59batch/s]\n"
     ]
    },
    {
     "name": "stdout",
     "output_type": "stream",
     "text": [
      "Epoch 20: Val Acc = 63.47878063359234 Val Macro F1 = 76.68293555076356\n",
      "Test!\n"
     ]
    },
    {
     "name": "stderr",
     "output_type": "stream",
     "text": [
      "Test: 100%|██████████| 212/212 [00:11<00:00, 17.71batch/s]\n"
     ]
    },
    {
     "name": "stdout",
     "output_type": "stream",
     "text": [
      "Epoch 1: Test Acc = 63.41030195381882 Test Macro F1 = 76.80908175753268\n",
      "\t\tRunning lstm... with learning rate: 0.01\n"
     ]
    },
    {
     "name": "stderr",
     "output_type": "stream",
     "text": [
      "Training: 100%|██████████| 183/183 [00:01<00:00, 139.98batch/s]\n",
      "Val: 100%|██████████| 210/210 [00:01<00:00, 138.00batch/s]\n"
     ]
    },
    {
     "name": "stdout",
     "output_type": "stream",
     "text": [
      "Epoch 1: Val Acc = 27.017334130304842 Val Macro F1 = 40.20214692628115\n"
     ]
    },
    {
     "name": "stderr",
     "output_type": "stream",
     "text": [
      "Training: 100%|██████████| 183/183 [00:01<00:00, 144.81batch/s]\n",
      "Val: 100%|██████████| 210/210 [00:01<00:00, 138.45batch/s]\n"
     ]
    },
    {
     "name": "stdout",
     "output_type": "stream",
     "text": [
      "Epoch 2: Val Acc = 27.017334130304842 Val Macro F1 = 40.20214692628115\n"
     ]
    },
    {
     "name": "stderr",
     "output_type": "stream",
     "text": [
      "Training: 100%|██████████| 183/183 [00:01<00:00, 152.43batch/s]\n",
      "Val: 100%|██████████| 210/210 [00:01<00:00, 138.51batch/s]\n"
     ]
    },
    {
     "name": "stdout",
     "output_type": "stream",
     "text": [
      "Epoch 3: Val Acc = 35.385534967124926 Val Macro F1 = 53.37312868057897\n"
     ]
    },
    {
     "name": "stderr",
     "output_type": "stream",
     "text": [
      "Training: 100%|██████████| 183/183 [00:01<00:00, 153.01batch/s]\n",
      "Val: 100%|██████████| 210/210 [00:01<00:00, 139.17batch/s]\n"
     ]
    },
    {
     "name": "stdout",
     "output_type": "stream",
     "text": [
      "Epoch 4: Val Acc = 41.18350268977884 Val Macro F1 = 53.32423687969726\n"
     ]
    },
    {
     "name": "stderr",
     "output_type": "stream",
     "text": [
      "Training: 100%|██████████| 183/183 [00:01<00:00, 153.68batch/s]\n",
      "Val: 100%|██████████| 210/210 [00:01<00:00, 139.61batch/s]\n"
     ]
    },
    {
     "name": "stdout",
     "output_type": "stream",
     "text": [
      "Epoch 5: Val Acc = 40.28690974297669 Val Macro F1 = 55.03361254211019\n"
     ]
    },
    {
     "name": "stderr",
     "output_type": "stream",
     "text": [
      "Training: 100%|██████████| 183/183 [00:01<00:00, 154.23batch/s]\n",
      "Val: 100%|██████████| 210/210 [00:01<00:00, 139.43batch/s]\n"
     ]
    },
    {
     "name": "stdout",
     "output_type": "stream",
     "text": [
      "Epoch 6: Val Acc = 43.63419007770472 Val Macro F1 = 59.86581656018035\n"
     ]
    },
    {
     "name": "stderr",
     "output_type": "stream",
     "text": [
      "Training: 100%|██████████| 183/183 [00:01<00:00, 153.05batch/s]\n",
      "Val: 100%|██████████| 210/210 [00:01<00:00, 139.55batch/s]\n"
     ]
    },
    {
     "name": "stdout",
     "output_type": "stream",
     "text": [
      "Epoch 7: Val Acc = 45.12851165570831 Val Macro F1 = 61.187110461978634\n"
     ]
    },
    {
     "name": "stderr",
     "output_type": "stream",
     "text": [
      "Training: 100%|██████████| 183/183 [00:01<00:00, 153.48batch/s]\n",
      "Val: 100%|██████████| 210/210 [00:01<00:00, 139.51batch/s]\n"
     ]
    },
    {
     "name": "stdout",
     "output_type": "stream",
     "text": [
      "Epoch 8: Val Acc = 45.307830245068736 Val Macro F1 = 64.01071533181951\n"
     ]
    },
    {
     "name": "stderr",
     "output_type": "stream",
     "text": [
      "Training: 100%|██████████| 183/183 [00:01<00:00, 153.29batch/s]\n",
      "Val: 100%|██████████| 210/210 [00:01<00:00, 139.38batch/s]\n"
     ]
    },
    {
     "name": "stdout",
     "output_type": "stream",
     "text": [
      "Epoch 9: Val Acc = 45.60669456066946 Val Macro F1 = 63.52965540330422\n"
     ]
    },
    {
     "name": "stderr",
     "output_type": "stream",
     "text": [
      "Training: 100%|██████████| 183/183 [00:01<00:00, 145.58batch/s]\n",
      "Val: 100%|██████████| 210/210 [00:01<00:00, 139.17batch/s]\n"
     ]
    },
    {
     "name": "stdout",
     "output_type": "stream",
     "text": [
      "Epoch 10: Val Acc = 46.14465032875075 Val Macro F1 = 64.99034656089587\n"
     ]
    },
    {
     "name": "stderr",
     "output_type": "stream",
     "text": [
      "Training: 100%|██████████| 183/183 [00:01<00:00, 152.89batch/s]\n",
      "Val: 100%|██████████| 210/210 [00:01<00:00, 139.02batch/s]\n"
     ]
    },
    {
     "name": "stdout",
     "output_type": "stream",
     "text": [
      "Epoch 11: Val Acc = 42.857142857142854 Val Macro F1 = 63.62590147423954\n"
     ]
    },
    {
     "name": "stderr",
     "output_type": "stream",
     "text": [
      "Training: 100%|██████████| 183/183 [00:01<00:00, 153.07batch/s]\n",
      "Val: 100%|██████████| 210/210 [00:01<00:00, 139.28batch/s]\n"
     ]
    },
    {
     "name": "stdout",
     "output_type": "stream",
     "text": [
      "Epoch 12: Val Acc = 46.68260609683203 Val Macro F1 = 65.25939181338292\n"
     ]
    },
    {
     "name": "stderr",
     "output_type": "stream",
     "text": [
      "Training: 100%|██████████| 183/183 [00:01<00:00, 153.13batch/s]\n",
      "Val: 100%|██████████| 210/210 [00:01<00:00, 138.99batch/s]\n"
     ]
    },
    {
     "name": "stdout",
     "output_type": "stream",
     "text": [
      "Epoch 13: Val Acc = 47.93783622235505 Val Macro F1 = 65.56904863749496\n"
     ]
    },
    {
     "name": "stderr",
     "output_type": "stream",
     "text": [
      "Training: 100%|██████████| 183/183 [00:01<00:00, 152.11batch/s]\n",
      "Val: 100%|██████████| 210/210 [00:01<00:00, 139.26batch/s]\n"
     ]
    },
    {
     "name": "stdout",
     "output_type": "stream",
     "text": [
      "Epoch 14: Val Acc = 47.81829049611476 Val Macro F1 = 66.50931263451798\n"
     ]
    },
    {
     "name": "stderr",
     "output_type": "stream",
     "text": [
      "Training: 100%|██████████| 183/183 [00:01<00:00, 152.79batch/s]\n",
      "Val: 100%|██████████| 210/210 [00:01<00:00, 138.43batch/s]\n"
     ]
    },
    {
     "name": "stdout",
     "output_type": "stream",
     "text": [
      "Epoch 15: Val Acc = 47.399880454273756 Val Macro F1 = 65.96363179804354\n"
     ]
    },
    {
     "name": "stderr",
     "output_type": "stream",
     "text": [
      "Training: 100%|██████████| 183/183 [00:01<00:00, 151.19batch/s]\n",
      "Val: 100%|██████████| 210/210 [00:01<00:00, 138.46batch/s]\n"
     ]
    },
    {
     "name": "stdout",
     "output_type": "stream",
     "text": [
      "Epoch 16: Val Acc = 47.28033472803347 Val Macro F1 = 65.67852994662606\n"
     ]
    },
    {
     "name": "stderr",
     "output_type": "stream",
     "text": [
      "Training: 100%|██████████| 183/183 [00:01<00:00, 152.79batch/s]\n",
      "Val: 100%|██████████| 210/210 [00:01<00:00, 138.07batch/s]\n"
     ]
    },
    {
     "name": "stdout",
     "output_type": "stream",
     "text": [
      "Epoch 17: Val Acc = 47.10101613867304 Val Macro F1 = 65.8004717457527\n"
     ]
    },
    {
     "name": "stderr",
     "output_type": "stream",
     "text": [
      "Training: 100%|██████████| 183/183 [00:01<00:00, 152.69batch/s]\n",
      "Val: 100%|██████████| 210/210 [00:01<00:00, 138.01batch/s]\n"
     ]
    },
    {
     "name": "stdout",
     "output_type": "stream",
     "text": [
      "Epoch 18: Val Acc = 47.57919904363419 Val Macro F1 = 66.00260618038753\n"
     ]
    },
    {
     "name": "stderr",
     "output_type": "stream",
     "text": [
      "Training: 100%|██████████| 183/183 [00:01<00:00, 152.95batch/s]\n",
      "Val: 100%|██████████| 210/210 [00:01<00:00, 137.85batch/s]\n"
     ]
    },
    {
     "name": "stdout",
     "output_type": "stream",
     "text": [
      "Epoch 19: Val Acc = 47.69874476987448 Val Macro F1 = 65.76799127882802\n"
     ]
    },
    {
     "name": "stderr",
     "output_type": "stream",
     "text": [
      "Training: 100%|██████████| 183/183 [00:01<00:00, 152.95batch/s]\n",
      "Val: 100%|██████████| 210/210 [00:01<00:00, 138.18batch/s]\n"
     ]
    },
    {
     "name": "stdout",
     "output_type": "stream",
     "text": [
      "Epoch 20: Val Acc = 47.10101613867304 Val Macro F1 = 65.75948671621104\n",
      "Test!\n"
     ]
    },
    {
     "name": "stderr",
     "output_type": "stream",
     "text": [
      "Test: 100%|██████████| 212/212 [00:01<00:00, 137.76batch/s]\n"
     ]
    },
    {
     "name": "stdout",
     "output_type": "stream",
     "text": [
      "Epoch 1: Test Acc = 45.23386619301362 Test Macro F1 = 65.12339961611433\n",
      "\tRunning aug_cebab...\n",
      "\t\tRunning bert-base-uncased... with learning rate: 1e-05\n"
     ]
    },
    {
     "name": "stderr",
     "output_type": "stream",
     "text": [
      "Training: 100%|██████████| 183/183 [00:28<00:00,  6.43batch/s]\n",
      "Val: 100%|██████████| 210/210 [00:11<00:00, 18.46batch/s]\n"
     ]
    },
    {
     "name": "stdout",
     "output_type": "stream",
     "text": [
      "Epoch 1: Val Acc = 65.98924088463838 Val Macro F1 = 76.6430557069552\n"
     ]
    },
    {
     "name": "stderr",
     "output_type": "stream",
     "text": [
      "Training: 100%|██████████| 183/183 [00:28<00:00,  6.44batch/s]\n",
      "Val: 100%|██████████| 210/210 [00:11<00:00, 18.52batch/s]\n"
     ]
    },
    {
     "name": "stdout",
     "output_type": "stream",
     "text": [
      "Epoch 2: Val Acc = 68.4997011356844 Val Macro F1 = 78.95854907675682\n"
     ]
    },
    {
     "name": "stderr",
     "output_type": "stream",
     "text": [
      "Training: 100%|██████████| 183/183 [00:28<00:00,  6.44batch/s]\n",
      "Val: 100%|██████████| 210/210 [00:11<00:00, 18.50batch/s]\n"
     ]
    },
    {
     "name": "stdout",
     "output_type": "stream",
     "text": [
      "Epoch 3: Val Acc = 70.53197848176927 Val Macro F1 = 80.83248641011977\n"
     ]
    },
    {
     "name": "stderr",
     "output_type": "stream",
     "text": [
      "Training: 100%|██████████| 183/183 [00:28<00:00,  6.44batch/s]\n",
      "Val: 100%|██████████| 210/210 [00:11<00:00, 18.51batch/s]\n"
     ]
    },
    {
     "name": "stdout",
     "output_type": "stream",
     "text": [
      "Epoch 4: Val Acc = 70.41243275552898 Val Macro F1 = 80.63392083810203\n"
     ]
    },
    {
     "name": "stderr",
     "output_type": "stream",
     "text": [
      "Training: 100%|██████████| 183/183 [00:28<00:00,  6.44batch/s]\n",
      "Val: 100%|██████████| 210/210 [00:11<00:00, 18.53batch/s]\n"
     ]
    },
    {
     "name": "stdout",
     "output_type": "stream",
     "text": [
      "Epoch 5: Val Acc = 70.77106993424985 Val Macro F1 = 81.02937693498033\n"
     ]
    },
    {
     "name": "stderr",
     "output_type": "stream",
     "text": [
      "Training: 100%|██████████| 183/183 [00:28<00:00,  6.43batch/s]\n",
      "Val: 100%|██████████| 210/210 [00:11<00:00, 18.52batch/s]\n"
     ]
    },
    {
     "name": "stdout",
     "output_type": "stream",
     "text": [
      "Epoch 6: Val Acc = 68.97788404064555 Val Macro F1 = 80.11457378907245\n"
     ]
    },
    {
     "name": "stderr",
     "output_type": "stream",
     "text": [
      "Training: 100%|██████████| 183/183 [00:28<00:00,  6.44batch/s]\n",
      "Val: 100%|██████████| 210/210 [00:11<00:00, 18.50batch/s]\n"
     ]
    },
    {
     "name": "stdout",
     "output_type": "stream",
     "text": [
      "Epoch 7: Val Acc = 71.72743574417214 Val Macro F1 = 81.56654435826474\n"
     ]
    },
    {
     "name": "stderr",
     "output_type": "stream",
     "text": [
      "Training: 100%|██████████| 183/183 [00:28<00:00,  6.44batch/s]\n",
      "Val: 100%|██████████| 210/210 [00:11<00:00, 18.51batch/s]\n"
     ]
    },
    {
     "name": "stdout",
     "output_type": "stream",
     "text": [
      "Epoch 8: Val Acc = 69.39629408248655 Val Macro F1 = 80.03701130918367\n"
     ]
    },
    {
     "name": "stderr",
     "output_type": "stream",
     "text": [
      "Training: 100%|██████████| 183/183 [00:28<00:00,  6.44batch/s]\n",
      "Val: 100%|██████████| 210/210 [00:11<00:00, 18.51batch/s]\n"
     ]
    },
    {
     "name": "stdout",
     "output_type": "stream",
     "text": [
      "Epoch 9: Val Acc = 68.67901972504484 Val Macro F1 = 79.8783781730976\n"
     ]
    },
    {
     "name": "stderr",
     "output_type": "stream",
     "text": [
      "Training: 100%|██████████| 183/183 [00:28<00:00,  6.44batch/s]\n",
      "Val: 100%|██████████| 210/210 [00:11<00:00, 18.51batch/s]\n"
     ]
    },
    {
     "name": "stdout",
     "output_type": "stream",
     "text": [
      "Epoch 10: Val Acc = 70.17334130304842 Val Macro F1 = 80.66572601678628\n"
     ]
    },
    {
     "name": "stderr",
     "output_type": "stream",
     "text": [
      "Training: 100%|██████████| 183/183 [00:28<00:00,  6.44batch/s]\n",
      "Val: 100%|██████████| 210/210 [00:11<00:00, 18.50batch/s]\n"
     ]
    },
    {
     "name": "stdout",
     "output_type": "stream",
     "text": [
      "Epoch 11: Val Acc = 70.35265989240884 Val Macro F1 = 81.0021277413474\n"
     ]
    },
    {
     "name": "stderr",
     "output_type": "stream",
     "text": [
      "Training: 100%|██████████| 183/183 [00:28<00:00,  6.44batch/s]\n",
      "Val: 100%|██████████| 210/210 [00:11<00:00, 18.51batch/s]\n"
     ]
    },
    {
     "name": "stdout",
     "output_type": "stream",
     "text": [
      "Epoch 12: Val Acc = 69.81470412432755 Val Macro F1 = 80.46105931666945\n"
     ]
    },
    {
     "name": "stderr",
     "output_type": "stream",
     "text": [
      "Training: 100%|██████████| 183/183 [00:28<00:00,  6.44batch/s]\n",
      "Val: 100%|██████████| 210/210 [00:11<00:00, 18.52batch/s]\n"
     ]
    },
    {
     "name": "stdout",
     "output_type": "stream",
     "text": [
      "Epoch 13: Val Acc = 70.35265989240884 Val Macro F1 = 80.81218250276055\n"
     ]
    },
    {
     "name": "stderr",
     "output_type": "stream",
     "text": [
      "Training: 100%|██████████| 183/183 [00:28<00:00,  6.43batch/s]\n",
      "Val: 100%|██████████| 210/210 [00:11<00:00, 18.52batch/s]\n"
     ]
    },
    {
     "name": "stdout",
     "output_type": "stream",
     "text": [
      "Epoch 16: Val Acc = 69.93424985056784 Val Macro F1 = 80.67855103580382\n"
     ]
    },
    {
     "name": "stderr",
     "output_type": "stream",
     "text": [
      "Training: 100%|██████████| 183/183 [00:28<00:00,  6.44batch/s]\n",
      "Val: 100%|██████████| 210/210 [00:11<00:00, 18.50batch/s]\n"
     ]
    },
    {
     "name": "stdout",
     "output_type": "stream",
     "text": [
      "Epoch 17: Val Acc = 69.0376569037657 Val Macro F1 = 80.34113986502298\n"
     ]
    },
    {
     "name": "stderr",
     "output_type": "stream",
     "text": [
      "Training: 100%|██████████| 183/183 [00:28<00:00,  6.44batch/s]\n",
      "Val: 100%|██████████| 210/210 [00:11<00:00, 18.50batch/s]\n"
     ]
    },
    {
     "name": "stdout",
     "output_type": "stream",
     "text": [
      "Epoch 18: Val Acc = 69.3365212193664 Val Macro F1 = 79.83414859043467\n"
     ]
    },
    {
     "name": "stderr",
     "output_type": "stream",
     "text": [
      "Training: 100%|██████████| 183/183 [00:28<00:00,  6.44batch/s]\n",
      "Val: 100%|██████████| 210/210 [00:11<00:00, 18.51batch/s]\n"
     ]
    },
    {
     "name": "stdout",
     "output_type": "stream",
     "text": [
      "Epoch 19: Val Acc = 70.83084279737 Val Macro F1 = 80.9755209240008\n"
     ]
    },
    {
     "name": "stderr",
     "output_type": "stream",
     "text": [
      "Training: 100%|██████████| 183/183 [00:28<00:00,  6.44batch/s]\n",
      "Val: 100%|██████████| 210/210 [00:11<00:00, 18.52batch/s]\n"
     ]
    },
    {
     "name": "stdout",
     "output_type": "stream",
     "text": [
      "Epoch 20: Val Acc = 66.46742378959952 Val Macro F1 = 77.98465375384265\n",
      "Test!\n"
     ]
    },
    {
     "name": "stderr",
     "output_type": "stream",
     "text": [
      "Test: 100%|██████████| 211/211 [00:11<00:00, 18.60batch/s]\n"
     ]
    },
    {
     "name": "stdout",
     "output_type": "stream",
     "text": [
      "Epoch 1: Test Acc = 68.96142433234421 Test Macro F1 = 79.1050569676012\n",
      "\t\tRunning roberta-base... with learning rate: 1e-05\n"
     ]
    },
    {
     "name": "stderr",
     "output_type": "stream",
     "text": [
      "Some weights of RobertaModel were not initialized from the model checkpoint at roberta-base and are newly initialized: ['pooler.dense.bias', 'pooler.dense.weight']\n",
      "You should probably TRAIN this model on a down-stream task to be able to use it for predictions and inference.\n",
      "Training: 100%|██████████| 183/183 [00:28<00:00,  6.39batch/s]\n",
      "Val: 100%|██████████| 210/210 [00:11<00:00, 18.88batch/s]\n"
     ]
    },
    {
     "name": "stdout",
     "output_type": "stream",
     "text": [
      "Epoch 1: Val Acc = 66.94560669456067 Val Macro F1 = 75.42614949862093\n"
     ]
    }
   ],
   "source": [
    "num_epochs = 20\n",
    "\n",
    "plms_funcs = {\n",
    "    'PLMs': get_cbm_standard,\n",
    "    'CBE-PLMs': get_cbm_joint\n",
    "}\n",
    "\n",
    "data_types = ['pure_cebab', 'aug_cebab']\n",
    "model_names = ['bert-base-uncased', 'roberta-base', 'gpt2', 'lstm']\n",
    "plms_results = {\n",
    "    'data_type': [],\n",
    "    'function': [],\n",
    "    'model': [],\n",
    "    'score': []\n",
    "}\n",
    "\n",
    "# functions\n",
    "for f_name, f in plms_funcs.items():\n",
    "    print(f\"Running {f_name}...\")\n",
    "    for data_type in data_types:\n",
    "        print(f\"\\tRunning {data_type}...\")\n",
    "        for model_name in model_names:\n",
    "            lr = lr_rate_dt.get(model_name)\n",
    "            print(f\"\\t\\tRunning {model_name}... with learning rate: {lr}\")\n",
    "            plms_results['data_type'].append(data_type)\n",
    "            plms_results['function'].append(f_name)\n",
    "            plms_results['model'].append(model_name)\n",
    "            plms_results['score'].append(\n",
    "                f(\n",
    "                    model_name=model_name,\n",
    "                    num_epochs=num_epochs,\n",
    "                    data_type=data_type,\n",
    "                    max_len=512,\n",
    "                    batch_size=8,\n",
    "                    optimizer_lr=lr\n",
    "                )\n",
    "            )"
   ]
  },
  {
   "cell_type": "code",
   "execution_count": 4,
   "id": "2d92e9a6-31ba-4f15-ae78-d32b6821a610",
   "metadata": {},
   "outputs": [],
   "source": [
    "df = pd.DataFrame.from_dict(plms_results)\n",
    "df['score_avg'] = df.score.apply(get_average_scores)\n",
    "df['score_fmted'] = df.score_avg.apply(get_tuple_2f_fmt)\n",
    "df"
   ]
  },
  {
   "cell_type": "code",
   "execution_count": null,
   "id": "a6c73d06-b25e-42cc-89c5-3605a3b250d7",
   "metadata": {},
   "outputs": [],
   "source": [
    "df.to_csv(\"std.csv\", index=False)"
   ]
  },
  {
   "cell_type": "code",
   "execution_count": 5,
   "id": "7aa1ce8d-44c2-4313-9294-3292312839c4",
   "metadata": {},
   "outputs": [
    {
     "data": {
      "text/html": [
       "<div>\n",
       "<style scoped>\n",
       "    .dataframe tbody tr th:only-of-type {\n",
       "        vertical-align: middle;\n",
       "    }\n",
       "\n",
       "    .dataframe tbody tr th {\n",
       "        vertical-align: top;\n",
       "    }\n",
       "\n",
       "    .dataframe thead th {\n",
       "        text-align: right;\n",
       "    }\n",
       "</style>\n",
       "<table border=\"1\" class=\"dataframe\">\n",
       "  <thead>\n",
       "    <tr style=\"text-align: right;\">\n",
       "      <th>data_type</th>\n",
       "      <th>aug_cebab</th>\n",
       "      <th>pure_cebab</th>\n",
       "    </tr>\n",
       "    <tr>\n",
       "      <th>model</th>\n",
       "      <th></th>\n",
       "      <th></th>\n",
       "    </tr>\n",
       "  </thead>\n",
       "  <tbody>\n",
       "    <tr>\n",
       "      <th>bert-base-uncased</th>\n",
       "      <td>68.96/79.11</td>\n",
       "      <td>67.44/78.64</td>\n",
       "    </tr>\n",
       "    <tr>\n",
       "      <th>gpt2</th>\n",
       "      <td>64.99/76.25</td>\n",
       "      <td>63.41/76.81</td>\n",
       "    </tr>\n",
       "    <tr>\n",
       "      <th>lstm</th>\n",
       "      <td>40.00/61.78</td>\n",
       "      <td>45.23/65.12</td>\n",
       "    </tr>\n",
       "    <tr>\n",
       "      <th>roberta-base</th>\n",
       "      <td>69.38/80.66</td>\n",
       "      <td>71.70/81.28</td>\n",
       "    </tr>\n",
       "  </tbody>\n",
       "</table>\n",
       "</div>"
      ],
      "text/plain": [
       "data_type            aug_cebab   pure_cebab\n",
       "model                                      \n",
       "bert-base-uncased  68.96/79.11  67.44/78.64\n",
       "gpt2               64.99/76.25  63.41/76.81\n",
       "lstm               40.00/61.78  45.23/65.12\n",
       "roberta-base       69.38/80.66  71.70/81.28"
      ]
     },
     "execution_count": 5,
     "metadata": {},
     "output_type": "execute_result"
    }
   ],
   "source": [
    "df = pd.read_csv('std.csv')\n",
    "df.pivot(index=['model'], columns=['data_type'], values='score_fmted')"
   ]
  },
  {
   "cell_type": "markdown",
   "id": "1fdc7317-7823-40fb-b80a-2ff1411bb212",
   "metadata": {},
   "source": [
    "# Debug lstm"
   ]
  },
  {
   "cell_type": "code",
   "execution_count": null,
   "id": "a7be673d-bca2-461f-8e4a-165b28304c61",
   "metadata": {},
   "outputs": [],
   "source": [
    "# get_cbm_standard(\n",
    "#     model_name='lstm',\n",
    "#     data_type='aug_cebab',\n",
    "#     max_len=512,\n",
    "#     batch_size=8,\n",
    "#     optimizer_lr=1e-2,\n",
    "#     num_epochs=20,\n",
    "# )"
   ]
  },
  {
   "cell_type": "code",
   "execution_count": null,
   "id": "7a38d908-b24d-4927-b281-f2ec78eb16b0",
   "metadata": {},
   "outputs": [],
   "source": [
    "# get_cbm_standard(\n",
    "#     model_name='lstm',\n",
    "#     data_type='pure_cebab',\n",
    "#     max_len=512,\n",
    "#     batch_size=8,\n",
    "#     optimizer_lr=1e-2,\n",
    "#     num_epochs=20,\n",
    "# )"
   ]
  }
 ],
 "metadata": {
  "kernelspec": {
   "display_name": "cbm",
   "language": "python",
   "name": "python3"
  },
  "language_info": {
   "codemirror_mode": {
    "name": "ipython",
    "version": 3
   },
   "file_extension": ".py",
   "mimetype": "text/x-python",
   "name": "python",
   "nbconvert_exporter": "python",
   "pygments_lexer": "ipython3",
   "version": "3.10.18"
  }
 },
 "nbformat": 4,
 "nbformat_minor": 5
}
