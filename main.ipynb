{
 "cells": [
  {
   "cell_type": "code",
   "execution_count": 6,
   "id": "c7267c57",
   "metadata": {},
   "outputs": [],
   "source": [
    "import os\n",
    "import sys\n",
    "import pandas as pd\n",
    "\n",
    "from run_cebab import get_cbm_standard, get_cbm_joint"
   ]
  },
  {
   "cell_type": "code",
   "execution_count": 2,
   "id": "61fd5319-0aef-44e3-bd26-dee1c7dd49d3",
   "metadata": {},
   "outputs": [],
   "source": [
    "# can only run once when kernal start\n",
    "os.chdir('run_cebab')"
   ]
  },
  {
   "cell_type": "code",
   "execution_count": 3,
   "id": "7108584a-4b6d-4e7b-a4dc-efaa36b4051c",
   "metadata": {},
   "outputs": [],
   "source": [
    "lr_rate_dt = {\n",
    "    'lstm': 1e-2,\n",
    "    'gpt2': 1e-4,\n",
    "    'roberta-base': 1e-5,\n",
    "    'bert-base-uncased': 1e-5\n",
    "}\n",
    "\n",
    "def get_average_scores(score_list):\n",
    "    if not score_list:\n",
    "        return (0.0, 0.0)\n",
    "\n",
    "    s1 = s2 = 0.0\n",
    "    n = 0\n",
    "    for a, b in score_list:\n",
    "        s1 += a\n",
    "        s2 += b\n",
    "        n += 1\n",
    "    return ((s1 / n * 100), (s2 / n * 100))\n",
    "\n",
    "def get_tuple_2f_fmt(tp):\n",
    "    f1, f2 = tp\n",
    "    return f\"{f1:.2f}/{f2:.2f}\""
   ]
  },
  {
   "cell_type": "code",
   "execution_count": 4,
   "id": "59f2125a-f9b6-4110-8255-99ce12aed5bb",
   "metadata": {},
   "outputs": [],
   "source": [
    "# num_epochs = 20\n",
    "\n",
    "# plms_funcs = {\n",
    "#     'PLMs': get_cbm_standard,\n",
    "#     'CBE-PLMs': get_cbm_joint\n",
    "# }\n",
    "\n",
    "# data_types = ['pure_cebab', 'aug_cebab']\n",
    "# model_names = ['bert-base-uncased', 'roberta-base', 'gpt2', 'lstm']\n",
    "# plms_results = {\n",
    "#     'data_type': [],\n",
    "#     'function': [],\n",
    "#     'model': [],\n",
    "#     'score': []\n",
    "# }\n",
    "\n",
    "# # functions\n",
    "# for f_name, f in plms_funcs.items():\n",
    "#     print(f\"Running {f_name}...\")\n",
    "#     for data_type in data_types:\n",
    "#         print(f\"\\tRunning {data_type}...\")\n",
    "#         for model_name in model_names:\n",
    "#             lr = lr_rate_dt.get(model_name)\n",
    "#             print(f\"\\t\\tRunning {model_name}... with learning rate: {lr}\")\n",
    "#             plms_results['data_type'].append(data_type)\n",
    "#             plms_results['function'].append(f_name)\n",
    "#             plms_results['model'].append(model_name)\n",
    "#             plms_results['score'].append(\n",
    "#                 f(\n",
    "#                     model_name=model_name,\n",
    "#                     num_epochs=num_epochs,\n",
    "#                     data_type=data_type,\n",
    "#                     max_len=512,\n",
    "#                     batch_size=8,\n",
    "#                     optimizer_lr=lr\n",
    "#                 )\n",
    "#             )"
   ]
  },
  {
   "cell_type": "code",
   "execution_count": 4,
   "id": "2d92e9a6-31ba-4f15-ae78-d32b6821a610",
   "metadata": {},
   "outputs": [],
   "source": [
    "# df = pd.DataFrame.from_dict(plms_results)\n",
    "# df['score_avg'] = df.score.apply(get_average_scores)\n",
    "# df['score_fmted'] = df.score_avg.apply(get_tuple_2f_fmt)\n",
    "\n",
    "# df.to_csv(\"result.csv\", index=False)\n",
    "# df = pd.read_csv('result.csv')"
   ]
  },
  {
   "cell_type": "code",
   "execution_count": 4,
   "id": "7aa1ce8d-44c2-4313-9294-3292312839c4",
   "metadata": {},
   "outputs": [],
   "source": [
    "# df.pivot(index=['model'], columns=['data_type'], values='score_fmted')"
   ]
  },
  {
   "cell_type": "markdown",
   "id": "1fdc7317-7823-40fb-b80a-2ff1411bb212",
   "metadata": {},
   "source": [
    "# Debug lstm"
   ]
  },
  {
   "cell_type": "code",
   "execution_count": 7,
   "id": "1dabdab6-e6fb-4554-82ba-1b4c3e3e24e2",
   "metadata": {},
   "outputs": [
    {
     "name": "stderr",
     "output_type": "stream",
     "text": [
      "Training: 100%|██████████| 183/183 [00:01<00:00, 151.78batch/s]\n",
      "Val: 100%|██████████| 210/210 [00:01<00:00, 137.88batch/s]\n"
     ]
    },
    {
     "name": "stdout",
     "output_type": "stream",
     "text": [
      "Epoch 1: Val Acc = 27.017334130304842 Val Macro F1 = 40.20214692628115\n"
     ]
    },
    {
     "name": "stderr",
     "output_type": "stream",
     "text": [
      "Training: 100%|██████████| 183/183 [00:01<00:00, 151.33batch/s]\n",
      "Val: 100%|██████████| 210/210 [00:01<00:00, 138.00batch/s]\n"
     ]
    },
    {
     "name": "stdout",
     "output_type": "stream",
     "text": [
      "Epoch 2: Val Acc = 23.072325164375375 Val Macro F1 = 45.505311646019976\n"
     ]
    },
    {
     "name": "stderr",
     "output_type": "stream",
     "text": [
      "Training: 100%|██████████| 183/183 [00:01<00:00, 151.71batch/s]\n",
      "Val: 100%|██████████| 210/210 [00:01<00:00, 138.64batch/s]\n"
     ]
    },
    {
     "name": "stdout",
     "output_type": "stream",
     "text": [
      "Epoch 3: Val Acc = 33.53257621040048 Val Macro F1 = 47.985258147722085\n"
     ]
    },
    {
     "name": "stderr",
     "output_type": "stream",
     "text": [
      "Training: 100%|██████████| 183/183 [00:01<00:00, 152.03batch/s]\n",
      "Val: 100%|██████████| 210/210 [00:01<00:00, 138.85batch/s]\n"
     ]
    },
    {
     "name": "stdout",
     "output_type": "stream",
     "text": [
      "Epoch 4: Val Acc = 37.05917513448894 Val Macro F1 = 50.48866364587688\n"
     ]
    },
    {
     "name": "stderr",
     "output_type": "stream",
     "text": [
      "Training: 100%|██████████| 183/183 [00:01<00:00, 149.24batch/s]\n",
      "Val: 100%|██████████| 210/210 [00:01<00:00, 138.73batch/s]\n"
     ]
    },
    {
     "name": "stdout",
     "output_type": "stream",
     "text": [
      "Epoch 5: Val Acc = 38.912133891213394 Val Macro F1 = 54.439090261602296\n"
     ]
    },
    {
     "name": "stderr",
     "output_type": "stream",
     "text": [
      "Training: 100%|██████████| 183/183 [00:01<00:00, 141.39batch/s]\n",
      "Val: 100%|██████████| 210/210 [00:01<00:00, 138.83batch/s]\n"
     ]
    },
    {
     "name": "stdout",
     "output_type": "stream",
     "text": [
      "Epoch 6: Val Acc = 40.46622833233712 Val Macro F1 = 55.183153708442546\n"
     ]
    },
    {
     "name": "stderr",
     "output_type": "stream",
     "text": [
      "Training: 100%|██████████| 183/183 [00:01<00:00, 138.66batch/s]\n",
      "Val: 100%|██████████| 210/210 [00:01<00:00, 138.47batch/s]\n"
     ]
    },
    {
     "name": "stdout",
     "output_type": "stream",
     "text": [
      "Epoch 7: Val Acc = 42.73759713090257 Val Macro F1 = 55.75682355628675\n"
     ]
    },
    {
     "name": "stderr",
     "output_type": "stream",
     "text": [
      "Training: 100%|██████████| 183/183 [00:01<00:00, 138.99batch/s]\n",
      "Val: 100%|██████████| 210/210 [00:01<00:00, 138.30batch/s]\n"
     ]
    },
    {
     "name": "stdout",
     "output_type": "stream",
     "text": [
      "Epoch 8: Val Acc = 40.227136879856545 Val Macro F1 = 58.749500639190884\n"
     ]
    },
    {
     "name": "stderr",
     "output_type": "stream",
     "text": [
      "Training: 100%|██████████| 183/183 [00:01<00:00, 141.08batch/s]\n",
      "Val: 100%|██████████| 210/210 [00:01<00:00, 137.52batch/s]\n"
     ]
    },
    {
     "name": "stdout",
     "output_type": "stream",
     "text": [
      "Epoch 9: Val Acc = 42.61805140466228 Val Macro F1 = 61.0021364098861\n"
     ]
    },
    {
     "name": "stderr",
     "output_type": "stream",
     "text": [
      "Training: 100%|██████████| 183/183 [00:01<00:00, 150.58batch/s]\n",
      "Val: 100%|██████████| 210/210 [00:01<00:00, 138.61batch/s]\n"
     ]
    },
    {
     "name": "stdout",
     "output_type": "stream",
     "text": [
      "Epoch 10: Val Acc = 37.05917513448894 Val Macro F1 = 58.316743982950925\n"
     ]
    },
    {
     "name": "stderr",
     "output_type": "stream",
     "text": [
      "Training: 100%|██████████| 183/183 [00:01<00:00, 152.36batch/s]\n",
      "Val: 100%|██████████| 210/210 [00:01<00:00, 138.38batch/s]\n"
     ]
    },
    {
     "name": "stdout",
     "output_type": "stream",
     "text": [
      "Epoch 11: Val Acc = 43.15600717274358 Val Macro F1 = 63.32754842823732\n"
     ]
    },
    {
     "name": "stderr",
     "output_type": "stream",
     "text": [
      "Training: 100%|██████████| 183/183 [00:01<00:00, 151.19batch/s]\n",
      "Val: 100%|██████████| 210/210 [00:01<00:00, 138.09batch/s]\n"
     ]
    },
    {
     "name": "stdout",
     "output_type": "stream",
     "text": [
      "Epoch 12: Val Acc = 41.84100418410041 Val Macro F1 = 61.88587948644022\n"
     ]
    },
    {
     "name": "stderr",
     "output_type": "stream",
     "text": [
      "Training: 100%|██████████| 183/183 [00:01<00:00, 150.47batch/s]\n",
      "Val: 100%|██████████| 210/210 [00:01<00:00, 138.09batch/s]\n"
     ]
    },
    {
     "name": "stdout",
     "output_type": "stream",
     "text": [
      "Epoch 13: Val Acc = 40.346682606096834 Val Macro F1 = 61.70870893849918\n"
     ]
    },
    {
     "name": "stderr",
     "output_type": "stream",
     "text": [
      "Training: 100%|██████████| 183/183 [00:01<00:00, 150.41batch/s]\n",
      "Val: 100%|██████████| 210/210 [00:01<00:00, 138.43batch/s]\n"
     ]
    },
    {
     "name": "stdout",
     "output_type": "stream",
     "text": [
      "Epoch 14: Val Acc = 42.797369994022716 Val Macro F1 = 62.41079282031584\n"
     ]
    },
    {
     "name": "stderr",
     "output_type": "stream",
     "text": [
      "Training: 100%|██████████| 183/183 [00:01<00:00, 152.62batch/s]\n",
      "Val: 100%|██████████| 210/210 [00:01<00:00, 138.79batch/s]\n"
     ]
    },
    {
     "name": "stdout",
     "output_type": "stream",
     "text": [
      "Epoch 15: Val Acc = 45.18828451882845 Val Macro F1 = 64.5448880979896\n"
     ]
    },
    {
     "name": "stderr",
     "output_type": "stream",
     "text": [
      "Training: 100%|██████████| 183/183 [00:01<00:00, 151.44batch/s]\n",
      "Val: 100%|██████████| 210/210 [00:01<00:00, 138.98batch/s]\n"
     ]
    },
    {
     "name": "stdout",
     "output_type": "stream",
     "text": [
      "Epoch 16: Val Acc = 44.889420203227736 Val Macro F1 = 64.69213003998749\n"
     ]
    },
    {
     "name": "stderr",
     "output_type": "stream",
     "text": [
      "Training: 100%|██████████| 183/183 [00:01<00:00, 152.95batch/s]\n",
      "Val: 100%|██████████| 210/210 [00:01<00:00, 138.58batch/s]\n"
     ]
    },
    {
     "name": "stdout",
     "output_type": "stream",
     "text": [
      "Epoch 17: Val Acc = 43.69396294082487 Val Macro F1 = 63.610503060240966\n"
     ]
    },
    {
     "name": "stderr",
     "output_type": "stream",
     "text": [
      "Training: 100%|██████████| 183/183 [00:01<00:00, 151.78batch/s]\n",
      "Val: 100%|██████████| 210/210 [00:01<00:00, 138.60batch/s]\n"
     ]
    },
    {
     "name": "stdout",
     "output_type": "stream",
     "text": [
      "Epoch 18: Val Acc = 42.49850567842199 Val Macro F1 = 63.15973744206028\n"
     ]
    },
    {
     "name": "stderr",
     "output_type": "stream",
     "text": [
      "Training: 100%|██████████| 183/183 [00:01<00:00, 152.12batch/s]\n",
      "Val: 100%|██████████| 210/210 [00:01<00:00, 138.64batch/s]\n"
     ]
    },
    {
     "name": "stdout",
     "output_type": "stream",
     "text": [
      "Epoch 19: Val Acc = 43.63419007770472 Val Macro F1 = 64.1952765376945\n"
     ]
    },
    {
     "name": "stderr",
     "output_type": "stream",
     "text": [
      "Training: 100%|██████████| 183/183 [00:01<00:00, 150.12batch/s]\n",
      "Val: 100%|██████████| 210/210 [00:01<00:00, 138.93batch/s]\n"
     ]
    },
    {
     "name": "stdout",
     "output_type": "stream",
     "text": [
      "Epoch 20: Val Acc = 42.916915720263 Val Macro F1 = 63.678101895647174\n",
      "Test!\n"
     ]
    },
    {
     "name": "stderr",
     "output_type": "stream",
     "text": [
      "Test: 100%|██████████| 212/212 [00:01<00:00, 137.77batch/s]\n"
     ]
    },
    {
     "name": "stdout",
     "output_type": "stream",
     "text": [
      "Epoch 1: Test Acc = 42.391947898164595 Test Macro F1 = 63.50157743369513\n"
     ]
    },
    {
     "data": {
      "text/plain": [
       "[(0.42391947898164595, 0.6350157743369513)]"
      ]
     },
     "execution_count": 7,
     "metadata": {},
     "output_type": "execute_result"
    }
   ],
   "source": [
    "get_cbm_standard(\n",
    "    model_name='lstm',\n",
    "    data_type='pure_cebab',\n",
    "    max_len=512,\n",
    "    batch_size=8,\n",
    "    optimizer_lr=1e-2,\n",
    "    num_epochs=20,\n",
    ")"
   ]
  },
  {
   "cell_type": "code",
   "execution_count": 8,
   "id": "a7be673d-bca2-461f-8e4a-165b28304c61",
   "metadata": {},
   "outputs": [
    {
     "name": "stderr",
     "output_type": "stream",
     "text": [
      "Training: 100%|██████████| 183/183 [00:01<00:00, 146.54batch/s]\n",
      "Val: 100%|██████████| 210/210 [00:01<00:00, 130.64batch/s]\n"
     ]
    },
    {
     "name": "stdout",
     "output_type": "stream",
     "text": [
      "Epoch 1: Val Acc = 18.589360430364614 Val Macro F1 = 39.15959068326081\n"
     ]
    },
    {
     "name": "stderr",
     "output_type": "stream",
     "text": [
      "Training: 100%|██████████| 183/183 [00:01<00:00, 141.61batch/s]\n",
      "Val: 100%|██████████| 210/210 [00:01<00:00, 129.79batch/s]\n"
     ]
    },
    {
     "name": "stdout",
     "output_type": "stream",
     "text": [
      "Epoch 2: Val Acc = 26.300059772863122 Val Macro F1 = 43.580593346239176\n"
     ]
    },
    {
     "name": "stderr",
     "output_type": "stream",
     "text": [
      "Training: 100%|██████████| 183/183 [00:01<00:00, 142.04batch/s]\n",
      "Val: 100%|██████████| 210/210 [00:01<00:00, 127.96batch/s]\n"
     ]
    },
    {
     "name": "stdout",
     "output_type": "stream",
     "text": [
      "Epoch 3: Val Acc = 37.53735803945009 Val Macro F1 = 54.19161836787206\n"
     ]
    },
    {
     "name": "stderr",
     "output_type": "stream",
     "text": [
      "Training: 100%|██████████| 183/183 [00:01<00:00, 144.58batch/s]\n",
      "Val: 100%|██████████| 210/210 [00:01<00:00, 130.85batch/s]\n"
     ]
    },
    {
     "name": "stdout",
     "output_type": "stream",
     "text": [
      "Epoch 4: Val Acc = 40.94441123729827 Val Macro F1 = 52.26537339514478\n"
     ]
    },
    {
     "name": "stderr",
     "output_type": "stream",
     "text": [
      "Training: 100%|██████████| 183/183 [00:01<00:00, 145.70batch/s]\n",
      "Val: 100%|██████████| 210/210 [00:01<00:00, 131.92batch/s]\n"
     ]
    },
    {
     "name": "stdout",
     "output_type": "stream",
     "text": [
      "Epoch 5: Val Acc = 40.28690974297669 Val Macro F1 = 56.047517537130545\n"
     ]
    },
    {
     "name": "stderr",
     "output_type": "stream",
     "text": [
      "Training: 100%|██████████| 183/183 [00:01<00:00, 144.04batch/s]\n",
      "Val: 100%|██████████| 210/210 [00:01<00:00, 130.11batch/s]\n"
     ]
    },
    {
     "name": "stdout",
     "output_type": "stream",
     "text": [
      "Epoch 6: Val Acc = 40.884638374178124 Val Macro F1 = 59.25138077608759\n"
     ]
    },
    {
     "name": "stderr",
     "output_type": "stream",
     "text": [
      "Training: 100%|██████████| 183/183 [00:01<00:00, 140.73batch/s]\n",
      "Val: 100%|██████████| 210/210 [00:01<00:00, 129.44batch/s]\n"
     ]
    },
    {
     "name": "stdout",
     "output_type": "stream",
     "text": [
      "Epoch 7: Val Acc = 42.61805140466228 Val Macro F1 = 59.46799875419598\n"
     ]
    },
    {
     "name": "stderr",
     "output_type": "stream",
     "text": [
      "Training: 100%|██████████| 183/183 [00:01<00:00, 142.78batch/s]\n",
      "Val: 100%|██████████| 210/210 [00:01<00:00, 129.70batch/s]\n"
     ]
    },
    {
     "name": "stdout",
     "output_type": "stream",
     "text": [
      "Epoch 8: Val Acc = 42.916915720263 Val Macro F1 = 61.686399601607334\n"
     ]
    },
    {
     "name": "stderr",
     "output_type": "stream",
     "text": [
      "Training: 100%|██████████| 183/183 [00:01<00:00, 144.19batch/s]\n",
      "Val: 100%|██████████| 210/210 [00:01<00:00, 128.12batch/s]\n"
     ]
    },
    {
     "name": "stdout",
     "output_type": "stream",
     "text": [
      "Epoch 9: Val Acc = 44.23191870890616 Val Macro F1 = 61.42256220763239\n"
     ]
    },
    {
     "name": "stderr",
     "output_type": "stream",
     "text": [
      "Training: 100%|██████████| 183/183 [00:01<00:00, 138.56batch/s]\n",
      "Val: 100%|██████████| 210/210 [00:01<00:00, 129.18batch/s]\n"
     ]
    },
    {
     "name": "stdout",
     "output_type": "stream",
     "text": [
      "Epoch 10: Val Acc = 45.068738792588164 Val Macro F1 = 64.3487884001755\n"
     ]
    },
    {
     "name": "stderr",
     "output_type": "stream",
     "text": [
      "Training: 100%|██████████| 183/183 [00:01<00:00, 140.53batch/s]\n",
      "Val: 100%|██████████| 210/210 [00:01<00:00, 128.61batch/s]\n"
     ]
    },
    {
     "name": "stdout",
     "output_type": "stream",
     "text": [
      "Epoch 11: Val Acc = 43.81350866706516 Val Macro F1 = 63.93413915363515\n"
     ]
    },
    {
     "name": "stderr",
     "output_type": "stream",
     "text": [
      "Training: 100%|██████████| 183/183 [00:01<00:00, 139.95batch/s]\n",
      "Val: 100%|██████████| 210/210 [00:01<00:00, 128.00batch/s]\n"
     ]
    },
    {
     "name": "stdout",
     "output_type": "stream",
     "text": [
      "Epoch 12: Val Acc = 39.98804542737597 Val Macro F1 = 62.12663398816731\n"
     ]
    },
    {
     "name": "stderr",
     "output_type": "stream",
     "text": [
      "Training: 100%|██████████| 183/183 [00:01<00:00, 144.19batch/s]\n",
      "Val: 100%|██████████| 210/210 [00:01<00:00, 129.85batch/s]\n"
     ]
    },
    {
     "name": "stdout",
     "output_type": "stream",
     "text": [
      "Epoch 13: Val Acc = 40.765092647937834 Val Macro F1 = 61.0872144000141\n"
     ]
    },
    {
     "name": "stderr",
     "output_type": "stream",
     "text": [
      "Training: 100%|██████████| 183/183 [00:01<00:00, 141.94batch/s]\n",
      "Val: 100%|██████████| 210/210 [00:01<00:00, 129.89batch/s]\n"
     ]
    },
    {
     "name": "stdout",
     "output_type": "stream",
     "text": [
      "Epoch 14: Val Acc = 46.92169754931261 Val Macro F1 = 65.38163148154557\n"
     ]
    },
    {
     "name": "stderr",
     "output_type": "stream",
     "text": [
      "Training: 100%|██████████| 183/183 [00:01<00:00, 142.30batch/s]\n",
      "Val: 100%|██████████| 210/210 [00:01<00:00, 130.13batch/s]\n"
     ]
    },
    {
     "name": "stdout",
     "output_type": "stream",
     "text": [
      "Epoch 15: Val Acc = 46.204423191870895 Val Macro F1 = 65.07033146760996\n"
     ]
    },
    {
     "name": "stderr",
     "output_type": "stream",
     "text": [
      "Training: 100%|██████████| 183/183 [00:01<00:00, 142.48batch/s]\n",
      "Val: 100%|██████████| 210/210 [00:01<00:00, 129.12batch/s]\n"
     ]
    },
    {
     "name": "stdout",
     "output_type": "stream",
     "text": [
      "Epoch 16: Val Acc = 44.7101016138673 Val Macro F1 = 64.51344244653792\n"
     ]
    },
    {
     "name": "stderr",
     "output_type": "stream",
     "text": [
      "Training: 100%|██████████| 183/183 [00:01<00:00, 142.75batch/s]\n",
      "Val: 100%|██████████| 210/210 [00:01<00:00, 127.72batch/s]\n"
     ]
    },
    {
     "name": "stdout",
     "output_type": "stream",
     "text": [
      "Epoch 17: Val Acc = 44.82964734010759 Val Macro F1 = 64.08943162131283\n"
     ]
    },
    {
     "name": "stderr",
     "output_type": "stream",
     "text": [
      "Training: 100%|██████████| 183/183 [00:01<00:00, 140.38batch/s]\n",
      "Val: 100%|██████████| 210/210 [00:01<00:00, 128.25batch/s]\n"
     ]
    },
    {
     "name": "stdout",
     "output_type": "stream",
     "text": [
      "Epoch 18: Val Acc = 47.75851763299462 Val Macro F1 = 66.07559612255646\n"
     ]
    },
    {
     "name": "stderr",
     "output_type": "stream",
     "text": [
      "Training: 100%|██████████| 183/183 [00:01<00:00, 145.14batch/s]\n",
      "Val: 100%|██████████| 210/210 [00:01<00:00, 129.83batch/s]\n"
     ]
    },
    {
     "name": "stdout",
     "output_type": "stream",
     "text": [
      "Epoch 19: Val Acc = 45.2480573819486 Val Macro F1 = 63.77301948480293\n"
     ]
    },
    {
     "name": "stderr",
     "output_type": "stream",
     "text": [
      "Training: 100%|██████████| 183/183 [00:01<00:00, 145.20batch/s]\n",
      "Val: 100%|██████████| 210/210 [00:01<00:00, 132.81batch/s]\n"
     ]
    },
    {
     "name": "stdout",
     "output_type": "stream",
     "text": [
      "Epoch 20: Val Acc = 46.32396891811118 Val Macro F1 = 63.90545070477985\n",
      "Test!\n"
     ]
    },
    {
     "name": "stderr",
     "output_type": "stream",
     "text": [
      "Test: 100%|██████████| 211/211 [00:01<00:00, 127.45batch/s]\n"
     ]
    },
    {
     "name": "stdout",
     "output_type": "stream",
     "text": [
      "Epoch 1: Test Acc = 45.519287833827896 Test Macro F1 = 64.13175706452957\n"
     ]
    },
    {
     "data": {
      "text/plain": [
       "[(0.45519287833827893, 0.6413175706452957)]"
      ]
     },
     "execution_count": 8,
     "metadata": {},
     "output_type": "execute_result"
    }
   ],
   "source": [
    "get_cbm_standard(\n",
    "    model_name='lstm',\n",
    "    data_type='aug_cebab',\n",
    "    max_len=512,\n",
    "    batch_size=8,\n",
    "    optimizer_lr=1e-2,\n",
    "    num_epochs=20,\n",
    ")"
   ]
  }
 ],
 "metadata": {
  "kernelspec": {
   "display_name": "Python 3 (ipykernel)",
   "language": "python",
   "name": "python3"
  },
  "language_info": {
   "codemirror_mode": {
    "name": "ipython",
    "version": 3
   },
   "file_extension": ".py",
   "mimetype": "text/x-python",
   "name": "python",
   "nbconvert_exporter": "python",
   "pygments_lexer": "ipython3",
   "version": "3.12.9"
  }
 },
 "nbformat": 4,
 "nbformat_minor": 5
}
