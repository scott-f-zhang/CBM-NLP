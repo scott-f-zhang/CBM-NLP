{
 "cells": [
  {
   "cell_type": "code",
   "execution_count": 1,
   "id": "c7267c57",
   "metadata": {},
   "outputs": [
    {
     "name": "stderr",
     "output_type": "stream",
     "text": [
      "/Volumes/Satechi/Applications/miniconda3/envs/cbm/lib/python3.10/site-packages/tqdm/auto.py:21: TqdmWarning: IProgress not found. Please update jupyter and ipywidgets. See https://ipywidgets.readthedocs.io/en/stable/user_install.html\n",
      "  from .autonotebook import tqdm as notebook_tqdm\n"
     ]
    }
   ],
   "source": [
    "from run_cebab import (\n",
    "    get_cbm_standard, get_cbm_LLM_standard,\n",
    "    get_cbm_LLM_joint, get_cbm_sequential, get_cbm_independent,\n",
    "    get_cbm_joint, get_cbm_LLM_independent, get_cbm_LLM_sequential,\n",
    "    get_cbm_LLM_mix_joint,\n",
    ")"
   ]
  },
  {
   "cell_type": "code",
   "execution_count": null,
   "id": "49aa96f6",
   "metadata": {},
   "outputs": [],
   "source": [
    "cbm_standard_scores = get_cbm_standard(num_epochs=1)\n",
    "cbm_LLM_standard_scores = get_cbm_LLM_standard(num_epochs=1)\n",
    "\n",
    "cbm_LLM_joint_scores = get_cbm_LLM_joint(num_epochs=1)\n",
    "cbm_sequential_scores = get_cbm_sequential(num_epochs=1)\n",
    "cbm_independent_scores = get_cbm_independent(num_epochs=1)\n",
    "\n",
    "cbm_joint_scores = get_cbm_joint(num_epochs=1)\n",
    "cbm_LLM_independent_scores = get_cbm_LLM_independent(num_epochs=1)\n",
    "cbm_LLM_sequential_scores = get_cbm_LLM_sequential(num_epochs=1)\n",
    "\n",
    "cbm_LLM_mix_joint_scores = get_cbm_LLM_mix_joint(num_epochs=1)"
   ]
  }
 ],
 "metadata": {
  "kernelspec": {
   "display_name": "cbm",
   "language": "python",
   "name": "python3"
  },
  "language_info": {
   "codemirror_mode": {
    "name": "ipython",
    "version": 3
   },
   "file_extension": ".py",
   "mimetype": "text/x-python",
   "name": "python",
   "nbconvert_exporter": "python",
   "pygments_lexer": "ipython3",
   "version": "3.10.18"
  }
 },
 "nbformat": 4,
 "nbformat_minor": 5
}
