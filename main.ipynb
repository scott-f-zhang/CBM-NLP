{
 "cells": [
  {
   "cell_type": "code",
   "execution_count": 2,
   "id": "c7267c57",
   "metadata": {},
   "outputs": [],
   "source": [
    "from run_cebab import (\n",
    "    get_cbm_standard, get_cbm_LLM_standard,\n",
    "    get_cbm_LLM_joint, get_cbm_sequential, get_cbm_independent,\n",
    "    get_cbm_joint, get_cbm_LLM_independent, get_cbm_LLM_sequential,\n",
    "    get_cbm_LLM_mix_joint,\n",
    ")"
   ]
  },
  {
   "cell_type": "code",
   "execution_count": 3,
   "id": "61fd5319-0aef-44e3-bd26-dee1c7dd49d3",
   "metadata": {},
   "outputs": [],
   "source": [
    "import os\n",
    "import sys\n",
    "\n",
    "os.chdir('run_cebab')"
   ]
  },
  {
   "cell_type": "code",
   "execution_count": 4,
   "id": "7108584a-4b6d-4e7b-a4dc-efaa36b4051c",
   "metadata": {},
   "outputs": [],
   "source": [
    "def get_average_scores(score_list):\n",
    "    if not score_list:\n",
    "        return (0.0, 0.0)\n",
    "\n",
    "    s1 = s2 = 0.0\n",
    "    n = 0\n",
    "    for a, b in score_list:\n",
    "        s1 += a\n",
    "        s2 += b\n",
    "        n += 1\n",
    "    return ((s1 / n * 100), (s2 / n * 100))"
   ]
  },
  {
   "cell_type": "code",
   "execution_count": 12,
   "id": "59f2125a-f9b6-4110-8255-99ce12aed5bb",
   "metadata": {},
   "outputs": [
    {
     "name": "stdout",
     "output_type": "stream",
     "text": [
      "Running standard...\n",
      "\tRunning bert-base-uncased...\n"
     ]
    },
    {
     "name": "stderr",
     "output_type": "stream",
     "text": [
      "Training: 100%|██████████| 183/183 [00:08<00:00, 22.62batch/s]\n",
      "Val: 100%|██████████| 210/210 [00:03<00:00, 59.20batch/s]\n"
     ]
    },
    {
     "name": "stdout",
     "output_type": "stream",
     "text": [
      "Epoch 1: Val Acc = 67.30424387328154 Val Macro F1 = 78.12830592100168\n"
     ]
    },
    {
     "name": "stderr",
     "output_type": "stream",
     "text": [
      "Training: 100%|██████████| 183/183 [00:08<00:00, 22.64batch/s]\n",
      "Val: 100%|██████████| 210/210 [00:03<00:00, 59.21batch/s]\n"
     ]
    },
    {
     "name": "stdout",
     "output_type": "stream",
     "text": [
      "Epoch 2: Val Acc = 63.71787208607292 Val Macro F1 = 77.308070575822\n"
     ]
    },
    {
     "name": "stderr",
     "output_type": "stream",
     "text": [
      "Training: 100%|██████████| 183/183 [00:08<00:00, 22.62batch/s]\n",
      "Val: 100%|██████████| 210/210 [00:03<00:00, 59.15batch/s]\n"
     ]
    },
    {
     "name": "stdout",
     "output_type": "stream",
     "text": [
      "Epoch 3: Val Acc = 66.82606096832038 Val Macro F1 = 77.44685183931203\n"
     ]
    },
    {
     "name": "stderr",
     "output_type": "stream",
     "text": [
      "Training: 100%|██████████| 183/183 [00:08<00:00, 22.59batch/s]\n",
      "Val: 100%|██████████| 210/210 [00:03<00:00, 59.05batch/s]\n"
     ]
    },
    {
     "name": "stdout",
     "output_type": "stream",
     "text": [
      "Epoch 4: Val Acc = 69.99402271368798 Val Macro F1 = 79.94225727069265\n"
     ]
    },
    {
     "name": "stderr",
     "output_type": "stream",
     "text": [
      "Training: 100%|██████████| 183/183 [00:08<00:00, 22.59batch/s]\n",
      "Val: 100%|██████████| 210/210 [00:03<00:00, 58.95batch/s]\n"
     ]
    },
    {
     "name": "stdout",
     "output_type": "stream",
     "text": [
      "Epoch 5: Val Acc = 71.1297071129707 Val Macro F1 = 81.22758047881497\n"
     ]
    },
    {
     "name": "stderr",
     "output_type": "stream",
     "text": [
      "Training: 100%|██████████| 183/183 [00:08<00:00, 22.57batch/s]\n",
      "Val: 100%|██████████| 210/210 [00:03<00:00, 59.02batch/s]\n"
     ]
    },
    {
     "name": "stdout",
     "output_type": "stream",
     "text": [
      "Epoch 6: Val Acc = 71.249252839211 Val Macro F1 = 81.41699720061901\n"
     ]
    },
    {
     "name": "stderr",
     "output_type": "stream",
     "text": [
      "Training: 100%|██████████| 183/183 [00:08<00:00, 22.59batch/s]\n",
      "Val: 100%|██████████| 210/210 [00:03<00:00, 59.11batch/s]\n"
     ]
    },
    {
     "name": "stdout",
     "output_type": "stream",
     "text": [
      "Epoch 7: Val Acc = 70.65152420800956 Val Macro F1 = 81.00394399885614\n"
     ]
    },
    {
     "name": "stderr",
     "output_type": "stream",
     "text": [
      "Training: 100%|██████████| 183/183 [00:08<00:00, 22.60batch/s]\n",
      "Val: 100%|██████████| 210/210 [00:03<00:00, 59.19batch/s]\n"
     ]
    },
    {
     "name": "stdout",
     "output_type": "stream",
     "text": [
      "Epoch 8: Val Acc = 69.69515839808726 Val Macro F1 = 80.14693167133127\n"
     ]
    },
    {
     "name": "stderr",
     "output_type": "stream",
     "text": [
      "Training: 100%|██████████| 183/183 [00:08<00:00, 22.65batch/s]\n",
      "Val: 100%|██████████| 210/210 [00:03<00:00, 59.59batch/s]\n"
     ]
    },
    {
     "name": "stdout",
     "output_type": "stream",
     "text": [
      "Epoch 9: Val Acc = 65.86969515839809 Val Macro F1 = 77.12853669757753\n"
     ]
    },
    {
     "name": "stderr",
     "output_type": "stream",
     "text": [
      "Training: 100%|██████████| 183/183 [00:08<00:00, 22.65batch/s]\n",
      "Val: 100%|██████████| 210/210 [00:03<00:00, 59.48batch/s]\n"
     ]
    },
    {
     "name": "stdout",
     "output_type": "stream",
     "text": [
      "Epoch 10: Val Acc = 69.3365212193664 Val Macro F1 = 80.32213735960336\n",
      "Test!\n"
     ]
    },
    {
     "name": "stderr",
     "output_type": "stream",
     "text": [
      "Test: 100%|██████████| 212/212 [00:03<00:00, 59.34batch/s]\n"
     ]
    },
    {
     "name": "stdout",
     "output_type": "stream",
     "text": [
      "Epoch 1: Test Acc = 68.9165186500888 Test Macro F1 = 80.30329087466897\n",
      "\tRunning roberta-base...\n"
     ]
    },
    {
     "name": "stderr",
     "output_type": "stream",
     "text": [
      "Some weights of RobertaModel were not initialized from the model checkpoint at roberta-base and are newly initialized: ['pooler.dense.bias', 'pooler.dense.weight']\n",
      "You should probably TRAIN this model on a down-stream task to be able to use it for predictions and inference.\n",
      "Training: 100%|██████████| 183/183 [00:08<00:00, 22.25batch/s]\n",
      "Val: 100%|██████████| 210/210 [00:03<00:00, 62.69batch/s]\n"
     ]
    },
    {
     "name": "stdout",
     "output_type": "stream",
     "text": [
      "Epoch 1: Val Acc = 66.88583383144052 Val Macro F1 = 77.80046543236465\n"
     ]
    },
    {
     "name": "stderr",
     "output_type": "stream",
     "text": [
      "Training: 100%|██████████| 183/183 [00:08<00:00, 22.26batch/s]\n",
      "Val: 100%|██████████| 210/210 [00:03<00:00, 63.15batch/s]\n"
     ]
    },
    {
     "name": "stdout",
     "output_type": "stream",
     "text": [
      "Epoch 2: Val Acc = 70.23311416616856 Val Macro F1 = 80.26397101580469\n"
     ]
    },
    {
     "name": "stderr",
     "output_type": "stream",
     "text": [
      "Training: 100%|██████████| 183/183 [00:08<00:00, 22.28batch/s]\n",
      "Val: 100%|██████████| 210/210 [00:03<00:00, 63.27batch/s]\n"
     ]
    },
    {
     "name": "stdout",
     "output_type": "stream",
     "text": [
      "Epoch 3: Val Acc = 72.68380155409444 Val Macro F1 = 81.78027080698669\n"
     ]
    },
    {
     "name": "stderr",
     "output_type": "stream",
     "text": [
      "Training: 100%|██████████| 183/183 [00:08<00:00, 22.26batch/s]\n",
      "Val: 100%|██████████| 210/210 [00:03<00:00, 63.23batch/s]\n"
     ]
    },
    {
     "name": "stdout",
     "output_type": "stream",
     "text": [
      "Epoch 4: Val Acc = 70.29288702928869 Val Macro F1 = 80.6640435384844\n"
     ]
    },
    {
     "name": "stderr",
     "output_type": "stream",
     "text": [
      "Training: 100%|██████████| 183/183 [00:08<00:00, 22.27batch/s]\n",
      "Val: 100%|██████████| 210/210 [00:03<00:00, 63.21batch/s]\n"
     ]
    },
    {
     "name": "stdout",
     "output_type": "stream",
     "text": [
      "Epoch 5: Val Acc = 70.65152420800956 Val Macro F1 = 81.12743127234572\n"
     ]
    },
    {
     "name": "stderr",
     "output_type": "stream",
     "text": [
      "Training: 100%|██████████| 183/183 [00:08<00:00, 22.26batch/s]\n",
      "Val: 100%|██████████| 210/210 [00:03<00:00, 63.19batch/s]\n"
     ]
    },
    {
     "name": "stdout",
     "output_type": "stream",
     "text": [
      "Epoch 6: Val Acc = 72.50448296473401 Val Macro F1 = 82.03170283280654\n"
     ]
    },
    {
     "name": "stderr",
     "output_type": "stream",
     "text": [
      "Training: 100%|██████████| 183/183 [00:08<00:00, 22.26batch/s]\n",
      "Val: 100%|██████████| 210/210 [00:03<00:00, 63.26batch/s]\n"
     ]
    },
    {
     "name": "stdout",
     "output_type": "stream",
     "text": [
      "Epoch 7: Val Acc = 71.84698147041243 Val Macro F1 = 81.51515592371783\n"
     ]
    },
    {
     "name": "stderr",
     "output_type": "stream",
     "text": [
      "Training: 100%|██████████| 183/183 [00:08<00:00, 22.27batch/s]\n",
      "Val: 100%|██████████| 210/210 [00:03<00:00, 63.22batch/s]\n"
     ]
    },
    {
     "name": "stdout",
     "output_type": "stream",
     "text": [
      "Epoch 8: Val Acc = 73.16198445905559 Val Macro F1 = 82.50812474049447\n"
     ]
    },
    {
     "name": "stderr",
     "output_type": "stream",
     "text": [
      "Training: 100%|██████████| 183/183 [00:08<00:00, 22.28batch/s]\n",
      "Val: 100%|██████████| 210/210 [00:03<00:00, 63.27batch/s]\n"
     ]
    },
    {
     "name": "stdout",
     "output_type": "stream",
     "text": [
      "Epoch 9: Val Acc = 71.72743574417214 Val Macro F1 = 81.87767699377943\n"
     ]
    },
    {
     "name": "stderr",
     "output_type": "stream",
     "text": [
      "Training: 100%|██████████| 183/183 [00:08<00:00, 22.24batch/s]\n",
      "Val: 100%|██████████| 210/210 [00:03<00:00, 63.30batch/s]\n"
     ]
    },
    {
     "name": "stdout",
     "output_type": "stream",
     "text": [
      "Epoch 10: Val Acc = 72.6240286909743 Val Macro F1 = 82.2255481403979\n",
      "Test!\n"
     ]
    },
    {
     "name": "stderr",
     "output_type": "stream",
     "text": [
      "Test: 100%|██████████| 212/212 [00:03<00:00, 62.60batch/s]\n"
     ]
    },
    {
     "name": "stdout",
     "output_type": "stream",
     "text": [
      "Epoch 1: Test Acc = 72.76494967436354 Test Macro F1 = 82.30923745643246\n",
      "\tRunning gpt2...\n"
     ]
    },
    {
     "data": {
      "application/vnd.jupyter.widget-view+json": {
       "model_id": "975ee2c9286c4ffb9f54133714fc9d62",
       "version_major": 2,
       "version_minor": 0
      },
      "text/plain": [
       "tokenizer_config.json:   0%|          | 0.00/26.0 [00:00<?, ?B/s]"
      ]
     },
     "metadata": {},
     "output_type": "display_data"
    },
    {
     "data": {
      "application/vnd.jupyter.widget-view+json": {
       "model_id": "90412fb35a0a4de4bad89e842ca91ba4",
       "version_major": 2,
       "version_minor": 0
      },
      "text/plain": [
       "vocab.json:   0%|          | 0.00/1.04M [00:00<?, ?B/s]"
      ]
     },
     "metadata": {},
     "output_type": "display_data"
    },
    {
     "data": {
      "application/vnd.jupyter.widget-view+json": {
       "model_id": "ba0e18845c9d4f859a35ac85c2cc82d5",
       "version_major": 2,
       "version_minor": 0
      },
      "text/plain": [
       "merges.txt:   0%|          | 0.00/456k [00:00<?, ?B/s]"
      ]
     },
     "metadata": {},
     "output_type": "display_data"
    },
    {
     "data": {
      "application/vnd.jupyter.widget-view+json": {
       "model_id": "57977e5bef5046709aa6704dd6110ca3",
       "version_major": 2,
       "version_minor": 0
      },
      "text/plain": [
       "tokenizer.json:   0%|          | 0.00/1.36M [00:00<?, ?B/s]"
      ]
     },
     "metadata": {},
     "output_type": "display_data"
    },
    {
     "data": {
      "application/vnd.jupyter.widget-view+json": {
       "model_id": "decc3a4db4e844b2af134d914067a50c",
       "version_major": 2,
       "version_minor": 0
      },
      "text/plain": [
       "config.json:   0%|          | 0.00/665 [00:00<?, ?B/s]"
      ]
     },
     "metadata": {},
     "output_type": "display_data"
    },
    {
     "data": {
      "application/vnd.jupyter.widget-view+json": {
       "model_id": "cbf3795bd5da483cb007e53ac6f92d1f",
       "version_major": 2,
       "version_minor": 0
      },
      "text/plain": [
       "model.safetensors:   0%|          | 0.00/548M [00:00<?, ?B/s]"
      ]
     },
     "metadata": {},
     "output_type": "display_data"
    },
    {
     "name": "stderr",
     "output_type": "stream",
     "text": [
      "Training: 100%|██████████| 183/183 [00:08<00:00, 21.05batch/s]\n",
      "Val: 100%|██████████| 210/210 [00:03<00:00, 62.93batch/s]\n"
     ]
    },
    {
     "name": "stdout",
     "output_type": "stream",
     "text": [
      "Epoch 1: Val Acc = 46.26419605499103 Val Macro F1 = 58.13162847962956\n"
     ]
    },
    {
     "name": "stderr",
     "output_type": "stream",
     "text": [
      "Training: 100%|██████████| 183/183 [00:08<00:00, 21.64batch/s]\n",
      "Val: 100%|██████████| 210/210 [00:03<00:00, 63.38batch/s]\n"
     ]
    },
    {
     "name": "stdout",
     "output_type": "stream",
     "text": [
      "Epoch 2: Val Acc = 58.93604303646145 Val Macro F1 = 73.77642385786451\n"
     ]
    },
    {
     "name": "stderr",
     "output_type": "stream",
     "text": [
      "Training: 100%|██████████| 183/183 [00:08<00:00, 21.63batch/s]\n",
      "Val: 100%|██████████| 210/210 [00:03<00:00, 63.36batch/s]\n"
     ]
    },
    {
     "name": "stdout",
     "output_type": "stream",
     "text": [
      "Epoch 3: Val Acc = 58.69695158398087 Val Macro F1 = 74.07953359478407\n"
     ]
    },
    {
     "name": "stderr",
     "output_type": "stream",
     "text": [
      "Training: 100%|██████████| 183/183 [00:08<00:00, 21.65batch/s]\n",
      "Val: 100%|██████████| 210/210 [00:03<00:00, 63.39batch/s]\n"
     ]
    },
    {
     "name": "stdout",
     "output_type": "stream",
     "text": [
      "Epoch 4: Val Acc = 66.82606096832038 Val Macro F1 = 77.82340058735238\n"
     ]
    },
    {
     "name": "stderr",
     "output_type": "stream",
     "text": [
      "Training: 100%|██████████| 183/183 [00:08<00:00, 21.65batch/s]\n",
      "Val: 100%|██████████| 210/210 [00:03<00:00, 63.21batch/s]\n"
     ]
    },
    {
     "name": "stdout",
     "output_type": "stream",
     "text": [
      "Epoch 5: Val Acc = 65.63060370591751 Val Macro F1 = 77.86711463117955\n"
     ]
    },
    {
     "name": "stderr",
     "output_type": "stream",
     "text": [
      "Training: 100%|██████████| 183/183 [00:08<00:00, 21.71batch/s]\n",
      "Val: 100%|██████████| 210/210 [00:03<00:00, 63.16batch/s]\n"
     ]
    },
    {
     "name": "stdout",
     "output_type": "stream",
     "text": [
      "Epoch 6: Val Acc = 64.85355648535564 Val Macro F1 = 76.81611165843324\n"
     ]
    },
    {
     "name": "stderr",
     "output_type": "stream",
     "text": [
      "Training: 100%|██████████| 183/183 [00:08<00:00, 21.72batch/s]\n",
      "Val: 100%|██████████| 210/210 [00:03<00:00, 63.18batch/s]\n"
     ]
    },
    {
     "name": "stdout",
     "output_type": "stream",
     "text": [
      "Epoch 7: Val Acc = 64.25582785415422 Val Macro F1 = 77.3013708887737\n"
     ]
    },
    {
     "name": "stderr",
     "output_type": "stream",
     "text": [
      "Training: 100%|██████████| 183/183 [00:08<00:00, 21.73batch/s]\n",
      "Val: 100%|██████████| 210/210 [00:03<00:00, 63.27batch/s]\n"
     ]
    },
    {
     "name": "stdout",
     "output_type": "stream",
     "text": [
      "Epoch 8: Val Acc = 67.24447101016139 Val Macro F1 = 77.7222075448792\n"
     ]
    },
    {
     "name": "stderr",
     "output_type": "stream",
     "text": [
      "Training: 100%|██████████| 183/183 [00:08<00:00, 21.71batch/s]\n",
      "Val: 100%|██████████| 210/210 [00:03<00:00, 63.40batch/s]\n"
     ]
    },
    {
     "name": "stdout",
     "output_type": "stream",
     "text": [
      "Epoch 9: Val Acc = 67.48356246264196 Val Macro F1 = 78.37160490961288\n"
     ]
    },
    {
     "name": "stderr",
     "output_type": "stream",
     "text": [
      "Training: 100%|██████████| 183/183 [00:08<00:00, 21.69batch/s]\n",
      "Val: 100%|██████████| 210/210 [00:03<00:00, 63.22batch/s]\n"
     ]
    },
    {
     "name": "stdout",
     "output_type": "stream",
     "text": [
      "Epoch 10: Val Acc = 66.04901374775852 Val Macro F1 = 78.176329080747\n",
      "Test!\n"
     ]
    },
    {
     "name": "stderr",
     "output_type": "stream",
     "text": [
      "Test: 100%|██████████| 212/212 [00:03<00:00, 62.97batch/s]"
     ]
    },
    {
     "name": "stdout",
     "output_type": "stream",
     "text": [
      "Epoch 1: Test Acc = 66.31142687981054 Test Macro F1 = 78.69469042564215\n",
      "\tRunning lstm...\n"
     ]
    },
    {
     "name": "stderr",
     "output_type": "stream",
     "text": [
      "\n"
     ]
    }
   ],
   "source": [
    "plms_funcs = {\n",
    "    'standard': get_cbm_standard,\n",
    "    # 'llm_standard': get_cbm_LLM_standard\n",
    "}\n",
    "\n",
    "model_names = ['bert-base-uncased', 'roberta-base', 'gpt2', 'lstm']\n",
    "plms_results = {\n",
    "    'function': [],\n",
    "    'model': [],\n",
    "    'score': []\n",
    "}\n",
    "\n",
    "for f_name, f in plms_funcs.items():\n",
    "    try:\n",
    "        print(f\"Running {f_name}...\")\n",
    "        for model_name in model_names:\n",
    "            print(f\"\\tRunning {model_name}...\")\n",
    "            plms_results['function'].append(f_name)\n",
    "            plms_results['model'].append(model_name)\n",
    "            plms_results['score'].append(f(model_name=model_name, num_epochs=10))\n",
    "    except Exception as e:\n",
    "        results[f_name] = f\"Error: {e}\""
   ]
  },
  {
   "cell_type": "code",
   "execution_count": 19,
   "id": "d84b2a10-0a27-42b2-a8c9-c8b3348e8a87",
   "metadata": {},
   "outputs": [
    {
     "data": {
      "text/plain": [
       "{'data_set': [],\n",
       " 'model_type': [],\n",
       " 'model': [],\n",
       " 'task': [],\n",
       " 'standard': \"Error: [Errno 2] No such file or directory: './fasttext/cc.en.300.bin'\"}"
      ]
     },
     "execution_count": 19,
     "metadata": {},
     "output_type": "execute_result"
    }
   ],
   "source": [
    "results"
   ]
  },
  {
   "cell_type": "code",
   "execution_count": 14,
   "id": "2d92e9a6-31ba-4f15-ae78-d32b6821a610",
   "metadata": {},
   "outputs": [
    {
     "name": "stdout",
     "output_type": "stream",
     "text": [
      "\n",
      "function: ['standard', 'standard', 'standard', 'standard']\n",
      "\n",
      "model: ['bert-base-uncased', 'roberta-base', 'gpt2', 'lstm']\n",
      "\n",
      "score: [[(0.6891651865008881, 0.8030329087466898)], [(0.7276494967436353, 0.8230923745643246)], [(0.6631142687981054, 0.7869469042564214)]]\n"
     ]
    }
   ],
   "source": [
    "for name, scores in plms_results.items():\n",
    "    # score_fmt = get_average_scores(scores)\n",
    "    print(f\"\\n{name}: {scores}\")"
   ]
  },
  {
   "cell_type": "code",
   "execution_count": 26,
   "id": "49aa96f6",
   "metadata": {},
   "outputs": [
    {
     "name": "stderr",
     "output_type": "stream",
     "text": [
      "Training: 100%|██████████| 183/183 [00:08<00:00, 22.67batch/s]\n",
      "Val: 100%|██████████| 210/210 [00:03<00:00, 59.27batch/s]\n"
     ]
    },
    {
     "name": "stdout",
     "output_type": "stream",
     "text": [
      "Epoch 1: Val Acc = 60.31081888822475 Val Macro F1 = 72.0958804960747\n",
      "Test!\n"
     ]
    },
    {
     "name": "stderr",
     "output_type": "stream",
     "text": [
      "Test: 100%|██████████| 212/212 [00:03<00:00, 59.30batch/s]"
     ]
    },
    {
     "name": "stdout",
     "output_type": "stream",
     "text": [
      "Epoch 1: Test Acc = 60.86441681468324 Test Macro F1 = 72.7447799873807\n"
     ]
    },
    {
     "name": "stderr",
     "output_type": "stream",
     "text": [
      "\n"
     ]
    }
   ],
   "source": [
    "cbm_standard_scores = get_cbm_standard(num_epochs=1)\n",
    "test_accuracy, mean_macro_f1_score = get_average_scores(cbm_standard_scores)\n",
    "task_score = f\"{test_accuracy:.2f}/{mean_macro_f1_score:.2f}\""
   ]
  },
  {
   "cell_type": "code",
   "execution_count": null,
   "id": "c20e2d32-8249-4d8a-b77f-de934640d1e2",
   "metadata": {},
   "outputs": [],
   "source": [
    "result['data_set'].append('D')\n",
    "result['model_type'].append('PLMs')\n",
    "result['model'].append('bert-base-uncased')\n",
    "result['task'].append(task_score)"
   ]
  }
 ],
 "metadata": {
  "kernelspec": {
   "display_name": "Python 3 (ipykernel)",
   "language": "python",
   "name": "python3"
  },
  "language_info": {
   "codemirror_mode": {
    "name": "ipython",
    "version": 3
   },
   "file_extension": ".py",
   "mimetype": "text/x-python",
   "name": "python",
   "nbconvert_exporter": "python",
   "pygments_lexer": "ipython3",
   "version": "3.12.9"
  }
 },
 "nbformat": 4,
 "nbformat_minor": 5
}
